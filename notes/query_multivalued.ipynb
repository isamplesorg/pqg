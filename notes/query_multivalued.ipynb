{
 "cells": [
  {
   "cell_type": "code",
   "execution_count": 22,
   "id": "8ac01097-9ad2-4b9e-a97a-6e4da48ea8aa",
   "metadata": {},
   "outputs": [],
   "source": [
    "import sys\n",
    "sys.path.append('C:\\\\Users\\\\smrTu\\\\OneDrive\\\\Documents\\\\GithubC\\\\iSamples\\\\pqg')\n",
    "import pqg"
   ]
  },
  {
   "cell_type": "markdown",
   "id": "437f30412785ee13",
   "metadata": {},
   "source": [
    "Example of querying a multivalued varchar column (e.g. `altids VARCHAR[]`)\n"
   ]
  },
  {
   "cell_type": "markdown",
   "id": "83f00210-7636-4725-a4b5-2cc156e2d8bb",
   "metadata": {},
   "source": [
    "! pip install duckdb\n"
   ]
  },
  {
   "cell_type": "markdown",
   "id": "374772f0-a223-43d1-946f-7228b31e55a8",
   "metadata": {
    "ExecuteTime": {
     "end_time": "2025-02-26T21:00:53.134279Z",
     "start_time": "2025-02-26T21:00:53.115754Z"
    }
   },
   "source": [
    "import duckdb\n",
    "import pqg\n",
    "cn = duckdb.connect()\n",
    "cn.execute(\"create table test (pid VARCHAR, altids VARCHAR[] DEFAULT NULL)\")\n",
    "test_data = (\n",
    "    [\"pid_1\", [\"alt_1\", \"alt_2\"],],\n",
    "    [\"pid_2\", [\"alt_3\", ],],\n",
    "    [\"pid_3\", [\"alt_1\", ],],\n",
    "    [\"pid_4\", None],\n",
    ")\n",
    "for row in test_data:\n",
    "    cn.execute(\"insert into test values (?, ?)\", row)\n",
    "cn.commit()\n"
   ]
  },
  {
   "cell_type": "markdown",
   "id": "6b514ad0-2fcf-4b39-acd0-b670c4d4faf9",
   "metadata": {
    "ExecuteTime": {
     "end_time": "2025-02-26T21:00:57.087262Z",
     "start_time": "2025-02-26T21:00:57.083541Z"
    }
   },
   "source": [
    "# Fetch all the rows at once (problematic with very large results)\n",
    "result = cn.execute(\"select * from test\")\n",
    "for row in result.fetchall():\n",
    "    print(row)"
   ]
  },
  {
   "cell_type": "code",
   "execution_count": 23,
   "id": "a7f02e60-8ae9-4209-a8e7-fb3b2fe346e5",
   "metadata": {},
   "outputs": [],
   "source": [
    "cn = duckdb.connect('../isamples/sesarduck.ddb')\n"
   ]
  },
  {
   "cell_type": "code",
   "execution_count": 27,
   "id": "51c84ff0-2d9f-48d5-b88a-b5a0c305a6a0",
   "metadata": {
    "ExecuteTime": {
     "end_time": "2025-02-26T21:37:26.970650Z",
     "start_time": "2025-02-26T21:37:26.966639Z"
    }
   },
   "outputs": [
    {
     "data": {
      "text/plain": [
       "('https://www.mindat.org/1:1:4318:8',)"
      ]
     },
     "execution_count": 27,
     "metadata": {},
     "output_type": "execute_result"
    }
   ],
   "source": [
    "# Fetch all the rows, but one at a time (use this pattern when there may be lots of results)\n",
    "result = cn.execute(\"select pid from node where 'mat_73' in altids \")\n",
    "apid = result.fetchone()\n",
    "apid"
   ]
  },
  {
   "cell_type": "code",
   "execution_count": 28,
   "id": "376332bdb8496b41",
   "metadata": {
    "ExecuteTime": {
     "end_time": "2025-02-26T21:03:33.962464Z",
     "start_time": "2025-02-26T21:03:33.956042Z"
    }
   },
   "outputs": [
    {
     "ename": "AttributeError",
     "evalue": "module 'pqg' has no attribute 'getNode'",
     "output_type": "error",
     "traceback": [
      "\u001b[1;31m---------------------------------------------------------------------------\u001b[0m",
      "\u001b[1;31mAttributeError\u001b[0m                            Traceback (most recent call last)",
      "Cell \u001b[1;32mIn[28], line 1\u001b[0m\n\u001b[1;32m----> 1\u001b[0m pqg\u001b[38;5;241m.\u001b[39mgetNode(row)\n",
      "\u001b[1;31mAttributeError\u001b[0m: module 'pqg' has no attribute 'getNode'"
     ]
    }
   ],
   "source": [
    "pqg.getNode(row)\n"
   ]
  },
  {
   "cell_type": "code",
   "execution_count": 11,
   "id": "cdc1169adbb50281",
   "metadata": {
    "ExecuteTime": {
     "end_time": "2025-02-26T21:04:30.552771Z",
     "start_time": "2025-02-26T21:04:30.548721Z"
    }
   },
   "outputs": [
    {
     "name": "stdout",
     "output_type": "stream",
     "text": [
      "pid_1\n",
      "pid_3\n"
     ]
    }
   ],
   "source": [
    "# Same as above but using the list_contains() function\n",
    "result = cn.execute(\"select pid from test where list_contains(altids, ?)\", (\"alt_1\",))\n",
    "for row in result.fetchall():\n",
    "    print(row[0])\n"
   ]
  },
  {
   "cell_type": "code",
   "execution_count": null,
   "id": "b8baaa01039b9a01",
   "metadata": {
    "ExecuteTime": {
     "end_time": "2025-02-26T21:02:11.555792Z",
     "start_time": "2025-02-26T21:02:11.552282Z"
    }
   },
   "outputs": [],
   "source": [
    "# No results returned altid = 'foo'\n",
    "result = cn.execute(\"select * from test where list_contains(altids, ?)\", (\"foo\",))\n",
    "while row := result.fetchone():\n",
    "    print(row)"
   ]
  }
 ],
 "metadata": {
  "kernelspec": {
   "display_name": "Python 3 (ipykernel)",
   "language": "python",
   "name": "python3"
  },
  "language_info": {
   "codemirror_mode": {
    "name": "ipython",
    "version": 3
   },
   "file_extension": ".py",
   "mimetype": "text/x-python",
   "name": "python",
   "nbconvert_exporter": "python",
   "pygments_lexer": "ipython3",
   "version": "3.12.5"
  }
 },
 "nbformat": 4,
 "nbformat_minor": 5
}
