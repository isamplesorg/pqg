{
 "cells": [
  {
   "metadata": {},
   "cell_type": "markdown",
   "source": "Example of querying a multivalued varchar column (e.g. `altids VARCHAR[]`)\n",
   "id": "437f30412785ee13"
  },
  {
   "metadata": {
    "ExecuteTime": {
     "end_time": "2025-02-26T21:00:53.134279Z",
     "start_time": "2025-02-26T21:00:53.115754Z"
    }
   },
   "cell_type": "code",
   "source": [
    "import duckdb\n",
    "\n",
    "cn = duckdb.connect()\n",
    "cn.execute(\"create table test (pid VARCHAR, altids VARCHAR[] DEFAULT NULL)\")\n",
    "test_data = (\n",
    "    [\"pid_1\", [\"alt_1\", \"alt_2\"],],\n",
    "    [\"pid_2\", [\"alt_3\", ],],\n",
    "    [\"pid_3\", [\"alt_1\", ],],\n",
    "    [\"pid_4\", None],\n",
    ")\n",
    "for row in test_data:\n",
    "    cn.execute(\"insert into test values (?, ?)\", row)\n",
    "cn.commit()\n"
   ],
   "id": "6882f7a63650c35f",
   "outputs": [
    {
     "data": {
      "text/plain": [
       "<duckdb.duckdb.DuckDBPyConnection at 0x115bc3430>"
      ]
     },
     "execution_count": 12,
     "metadata": {},
     "output_type": "execute_result"
    }
   ],
   "execution_count": 12
  },
  {
   "metadata": {
    "ExecuteTime": {
     "end_time": "2025-02-26T21:00:57.087262Z",
     "start_time": "2025-02-26T21:00:57.083541Z"
    }
   },
   "cell_type": "code",
   "source": [
    "# Fetch all the rows at once (problematic with very large results)\n",
    "result = cn.execute(\"select * from test\")\n",
    "for row in result.fetchall():\n",
    "    print(row)"
   ],
   "id": "4cbfbc0ebb3c7efa",
   "outputs": [
    {
     "name": "stdout",
     "output_type": "stream",
     "text": [
      "('pid_1', ['alt_1', 'alt_2'])\n",
      "('pid_2', ['alt_3'])\n",
      "('pid_3', ['alt_1'])\n",
      "('pid_4', None)\n"
     ]
    }
   ],
   "execution_count": 13
  },
  {
   "metadata": {
    "ExecuteTime": {
     "end_time": "2025-02-26T21:01:00.032771Z",
     "start_time": "2025-02-26T21:01:00.029301Z"
    }
   },
   "cell_type": "code",
   "source": [
    "# Fetch all the rows, but one at a time (use this pattern when there may be lots of results)\n",
    "result = cn.execute(\"select * from test\")\n",
    "while row := result.fetchone():\n",
    "    print(row)"
   ],
   "id": "8ce0b1a8a136da73",
   "outputs": [
    {
     "name": "stdout",
     "output_type": "stream",
     "text": [
      "('pid_1', ['alt_1', 'alt_2'])\n",
      "('pid_2', ['alt_3'])\n",
      "('pid_3', ['alt_1'])\n",
      "('pid_4', None)\n"
     ]
    }
   ],
   "execution_count": 14
  },
  {
   "metadata": {
    "ExecuteTime": {
     "end_time": "2025-02-26T21:03:33.962464Z",
     "start_time": "2025-02-26T21:03:33.956042Z"
    }
   },
   "cell_type": "code",
   "source": [
    "# Fetch records containing altid \"alt_1\"\n",
    "result = cn.execute(\"select * from test where ? in altids\", (\"alt_1\",))\n",
    "for row in result.fetchall():\n",
    "    print(row)\n"
   ],
   "id": "376332bdb8496b41",
   "outputs": [
    {
     "name": "stdout",
     "output_type": "stream",
     "text": [
      "('pid_1', ['alt_1', 'alt_2'])\n",
      "('pid_3', ['alt_1'])\n"
     ]
    }
   ],
   "execution_count": 17
  },
  {
   "metadata": {
    "ExecuteTime": {
     "end_time": "2025-02-26T21:04:30.552771Z",
     "start_time": "2025-02-26T21:04:30.548721Z"
    }
   },
   "cell_type": "code",
   "source": [
    "# Same as above but using the list_contains() function\n",
    "result = cn.execute(\"select * from test where list_contains(altids, ?)\", (\"alt_1\",))\n",
    "for row in result.fetchall():\n",
    "    print(row)\n"
   ],
   "id": "cdc1169adbb50281",
   "outputs": [
    {
     "name": "stdout",
     "output_type": "stream",
     "text": [
      "('pid_1', ['alt_1', 'alt_2'])\n",
      "('pid_3', ['alt_1'])\n"
     ]
    }
   ],
   "execution_count": 18
  },
  {
   "metadata": {
    "ExecuteTime": {
     "end_time": "2025-02-26T21:02:11.555792Z",
     "start_time": "2025-02-26T21:02:11.552282Z"
    }
   },
   "cell_type": "code",
   "source": [
    "# No results returned altid = 'foo'\n",
    "result = cn.execute(\"select * from test where list_contains(altids, ?)\", (\"foo\",))\n",
    "while row := result.fetchone():\n",
    "    print(row)"
   ],
   "id": "b8baaa01039b9a01",
   "outputs": [],
   "execution_count": 16
  }
 ],
 "metadata": {
  "kernelspec": {
   "display_name": "Python 3",
   "language": "python",
   "name": "python3"
  },
  "language_info": {
   "codemirror_mode": {
    "name": "ipython",
    "version": 2
   },
   "file_extension": ".py",
   "mimetype": "text/x-python",
   "name": "python",
   "nbconvert_exporter": "python",
   "pygments_lexer": "ipython2",
   "version": "2.7.6"
  }
 },
 "nbformat": 4,
 "nbformat_minor": 5
}
