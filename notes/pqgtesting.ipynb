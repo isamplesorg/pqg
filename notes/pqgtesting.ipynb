{
 "cells": [
  {
   "cell_type": "code",
   "execution_count": null,
   "id": "8ac01097-9ad2-4b9e-a97a-6e4da48ea8aa",
   "metadata": {},
   "outputs": [],
   "source": [
    "import sys\n",
    "sys.path.append('C:\\\\Users\\\\smrTu\\\\OneDrive\\\\Documents\\\\GithubC\\\\iSamples\\\\pqg')\n",
    "import pqg\n",
    "import duckdb"
   ]
  },
  {
   "cell_type": "markdown",
   "id": "83f00210-7636-4725-a4b5-2cc156e2d8bb",
   "metadata": {},
   "source": [
    "! pip install duckdb\n"
   ]
  },
  {
   "cell_type": "code",
   "execution_count": null,
   "id": "a7f02e60-8ae9-4209-a8e7-fb3b2fe346e5",
   "metadata": {},
   "outputs": [],
   "source": [
    "cn = duckdb.connect('../isamples/sesarduck.ddb')\n"
   ]
  },
  {
   "cell_type": "code",
   "execution_count": null,
   "id": "51c84ff0-2d9f-48d5-b88a-b5a0c305a6a0",
   "metadata": {
    "ExecuteTime": {
     "end_time": "2025-02-26T21:37:26.970650Z",
     "start_time": "2025-02-26T21:37:26.966639Z"
    }
   },
   "outputs": [],
   "source": [
    "# Fetch all the rows, but one at a time (use this pattern when there may be lots of results)\n",
    "result = cn.execute(\"select pid, altids from node where pid like 'urn:local:mat%' \")\n",
    "apid = result.fetchall()\n",
    "apid\n",
    "\n"
   ]
  },
  {
   "cell_type": "code",
   "execution_count": null,
   "id": "376332bdb8496b41",
   "metadata": {
    "ExecuteTime": {
     "end_time": "2025-02-26T21:03:33.962464Z",
     "start_time": "2025-02-26T21:03:33.956042Z"
    }
   },
   "outputs": [],
   "source": [
    "pqg.getNode(row)\n"
   ]
  },
  {
   "cell_type": "code",
   "execution_count": null,
   "id": "cdc1169adbb50281",
   "metadata": {
    "ExecuteTime": {
     "end_time": "2025-02-26T21:04:30.552771Z",
     "start_time": "2025-02-26T21:04:30.548721Z"
    }
   },
   "outputs": [],
   "source": [
    "# Same as above but using the list_contains() function\n",
    "result = cn.execute(\"select pid, altids from node\")\n",
    "for row in result.fetchall():\n",
    "    print(row[0], row[1])\n"
   ]
  },
  {
   "cell_type": "code",
   "execution_count": null,
   "id": "66d56b27-e596-40b1-8b2e-81e16cbc1676",
   "metadata": {},
   "outputs": [],
   "source": [
    "cn.close()"
   ]
  },
  {
   "cell_type": "code",
   "execution_count": null,
   "id": "b8baaa01039b9a01",
   "metadata": {
    "ExecuteTime": {
     "end_time": "2025-02-26T21:02:11.555792Z",
     "start_time": "2025-02-26T21:02:11.552282Z"
    }
   },
   "outputs": [],
   "source": [
    "# No results returned altid = 'foo'\n",
    "result = cn.execute(\"select * from test where list_contains(altids, ?)\", (\"foo\",))\n",
    "while row := result.fetchone():\n",
    "    print(row)"
   ]
  },
  {
   "cell_type": "code",
   "execution_count": null,
   "id": "36002107-d7f4-4b30-a588-88d18a0b0da6",
   "metadata": {},
   "outputs": [],
   "source": []
  },
  {
   "cell_type": "code",
   "execution_count": null,
   "id": "8cdee7b0-286a-4d1f-b704-b5f1d3919b98",
   "metadata": {},
   "outputs": [],
   "source": []
  }
 ],
 "metadata": {
  "kernelspec": {
   "display_name": "Python 3 (ipykernel)",
   "language": "python",
   "name": "python3"
  },
  "language_info": {
   "codemirror_mode": {
    "name": "ipython",
    "version": 3
   },
   "file_extension": ".py",
   "mimetype": "text/x-python",
   "name": "python",
   "nbconvert_exporter": "python",
   "pygments_lexer": "ipython3",
   "version": "3.12.5"
  }
 },
 "nbformat": 4,
 "nbformat_minor": 5
}
