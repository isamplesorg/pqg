{
 "cells": [
  {
   "cell_type": "markdown",
   "id": "c697cfa6cb76a575",
   "metadata": {},
   "source": [
    "Simple dataclass hierarchy storage in PQG.\n",
    "\n",
    "This content is for testing purposes, it doesn't reflect the actual material sample record structure."
   ]
  },
  {
   "cell_type": "code",
   "id": "initial_id",
   "metadata": {
    "ExecuteTime": {
     "end_time": "2025-02-18T04:28:39.932835Z",
     "start_time": "2025-02-18T04:28:39.352256Z"
    }
   },
   "source": [
    "import dataclasses\n",
    "import datetime\n",
    "import json\n",
    "import logging\n",
    "import typing\n",
    "import pqg\n",
    "\n",
    "logging.basicConfig(level=logging.INFO)\n",
    "   \n",
    "@dataclasses.dataclass(kw_only=True)\n",
    "class Agent(pqg.Base):\n",
    "    affiliation: pqg.OptionalStr = None\n",
    "    contact: pqg.OptionalStr = None\n",
    "    \n",
    "    \n",
    "@dataclasses.dataclass(kw_only=True)\n",
    "class GeoLocation(pqg.Base):\n",
    "    longitude: float\n",
    "    latitude: float\n",
    "    zoffset: pqg.OptionalFloat = None\n",
    "    zreference: pqg.OptionalStr = None\n",
    "    \n",
    "        \n",
    "@dataclasses.dataclass(kw_only=True)\n",
    "class SamplingSite(pqg.Base):\n",
    "    location: GeoLocation = None\n",
    "\n",
    "\n",
    "@dataclasses.dataclass(kw_only=True)\n",
    "class SamplingEvent(pqg.Base):\n",
    "    tstamp: pqg.OptionalDateTime = None\n",
    "    responsibility: Agent = None\n",
    "    sampling_site: SamplingSite = None\n",
    "    \n",
    "\n",
    "@dataclasses.dataclass(kw_only=True)\n",
    "class MaterialSample(pqg.Base):\n",
    "    registrant: Agent = None\n",
    "    produced_by: SamplingEvent = None\n",
    "\n",
    "\n",
    "graph = pqg.PQG()\n",
    "graph.initialize(classes=[MaterialSample,])\n"
   ],
   "outputs": [
    {
     "name": "stderr",
     "output_type": "stream",
     "text": [
      "INFO:pqg:No metadata available.\n"
     ]
    }
   ],
   "execution_count": 1
  },
  {
   "cell_type": "code",
   "id": "616f6b30825544d6",
   "metadata": {
    "ExecuteTime": {
     "end_time": "2025-02-18T04:28:40.395193Z",
     "start_time": "2025-02-18T04:28:40.124760Z"
    }
   },
   "source": [
    "import faker\n",
    "gen = faker.Faker()\n",
    "\n",
    "agents = []\n",
    "for i in range(10):\n",
    "    agents.append(Agent(\n",
    "        pid=f\"agent_{i}\",\n",
    "        label=gen.name()\n",
    "    ))\n",
    "\n",
    "sites = []\n",
    "for i in range(10):\n",
    "   sites.append(SamplingSite(\n",
    "       pid=f\"site_{i}\",\n",
    "       location = GeoLocation(\n",
    "           pid=f\"geo_{i}\",\n",
    "           longitude=gen.longitude(),\n",
    "           latitude=gen.latitude(),\n",
    "           zoffset=gen.random_number(digits=3),\n",
    "           zreference='MSL'\n",
    "       )\n",
    "   ))\n",
    "for i in range(5):\n",
    "    revent = SamplingEvent(\n",
    "        pid=f\"event_{i}\",\n",
    "        tstamp=gen.date_time(tzinfo=datetime.timezone.utc),\n",
    "        responsibility=agents[gen.random_int(min=0, max=len(agents)-1)],\n",
    "        sampling_site=sites[gen.random_int(min=0, max=len(sites)-1)]\n",
    "    )\n",
    "    ms = MaterialSample(\n",
    "        pid=f\"sample_{i}\",\n",
    "        label=f\"Fake Sample {i}\",\n",
    "        description=gen.text(),\n",
    "        registrant = agents[gen.random_int(min=0, max=len(agents)-1)],\n",
    "        produced_by = revent\n",
    "    )\n",
    "    graph.addNode(ms)\n",
    "\n",
    "\n",
    "sample_event = SamplingEvent(\n",
    "    pid = \"event_01\",\n",
    "    tstamp = datetime.datetime.now(tz=datetime.timezone.utc),\n",
    "    responsibility = agents[gen.random_int(min=0, max=len(agents)-1)],\n",
    "    sampling_site = SamplingSite(\n",
    "        pid=\"site_01\",\n",
    "        location=GeoLocation(\n",
    "            pid=\"geo_01\",\n",
    "            longitude=-76.5656,\n",
    "            latitude=39.023,\n",
    "            zoffset=32.0,\n",
    "            zreference=\"MSL\"\n",
    "        )\n",
    "    )\n",
    ")\n",
    "ms = MaterialSample(\n",
    "    pid=\"ms01\", \n",
    "    label=\"MS 01\", \n",
    "    description=\"MS 01 description string\",\n",
    "    registrant = agents[gen.random_int(min=0, max=len(agents)-1)],\n",
    "    produced_by = sample_event,\n",
    "    altids=[\"MS01\", \"MS-01\", \"MS_01\"]\n",
    ")\n",
    "graph.addNode(ms)\n",
    "\n",
    "sample_event = SamplingEvent(\n",
    "    pid = \"event_02\",\n",
    "    tstamp = datetime.datetime.now(tz=datetime.timezone.utc),\n",
    "    responsibility = agents[gen.random_int(min=0, max=len(agents)-1)],\n",
    "    sampling_site = SamplingSite(\n",
    "        pid=\"site_02\",\n",
    "        location=GeoLocation(\n",
    "            pid=\"geo_02\",\n",
    "            longitude=-78.5656,\n",
    "            latitude=38.023,\n",
    "            zoffset=32.0,\n",
    "            zreference=\"MSL\"\n",
    "        )\n",
    "    )\n",
    ")\n",
    "ms = MaterialSample(\n",
    "    pid=\"ms02\", \n",
    "    label=\"MS 02\", \n",
    "    description=\"MS 02 description string\",\n",
    "    registrant = agents[gen.random_int(min=0, max=len(agents)-1)],\n",
    "    produced_by = sample_event\n",
    ")\n",
    "graph.addNode(ms)"
   ],
   "outputs": [
    {
     "data": {
      "text/plain": [
       "'ms02'"
      ]
     },
     "execution_count": 2,
     "metadata": {},
     "output_type": "execute_result"
    }
   ],
   "execution_count": 2
  },
  {
   "cell_type": "code",
   "id": "df913144b87f8a35",
   "metadata": {
    "ExecuteTime": {
     "end_time": "2025-02-18T04:28:40.465001Z",
     "start_time": "2025-02-18T04:28:40.411777Z"
    }
   },
   "source": [
    "data = graph.getNode(\"ms01\")\n",
    "print(json.dumps(data, indent=2, cls=pqg.JSONDateTimeEncoder))"
   ],
   "outputs": [
    {
     "name": "stdout",
     "output_type": "stream",
     "text": [
      "{\n",
      "  \"pid\": \"ms01\",\n",
      "  \"label\": \"MS 01\",\n",
      "  \"description\": \"MS 01 description string\",\n",
      "  \"registrant\": {\n",
      "    \"pid\": \"agent_0\",\n",
      "    \"label\": \"Scott Smith\",\n",
      "    \"description\": null,\n",
      "    \"affiliation\": null,\n",
      "    \"contact\": null\n",
      "  },\n",
      "  \"produced_by\": {\n",
      "    \"pid\": \"event_01\",\n",
      "    \"label\": null,\n",
      "    \"description\": null,\n",
      "    \"tstamp\": \"2025-02-17T23:28:40.344072-05:00\",\n",
      "    \"responsibility\": {\n",
      "      \"pid\": \"agent_5\",\n",
      "      \"label\": \"Tom Chase\",\n",
      "      \"description\": null,\n",
      "      \"affiliation\": null,\n",
      "      \"contact\": null\n",
      "    },\n",
      "    \"sampling_site\": {\n",
      "      \"pid\": \"site_01\",\n",
      "      \"label\": null,\n",
      "      \"description\": null,\n",
      "      \"location\": {\n",
      "        \"pid\": \"geo_01\",\n",
      "        \"label\": null,\n",
      "        \"description\": null,\n",
      "        \"longitude\": -76.5656,\n",
      "        \"latitude\": 39.023,\n",
      "        \"zoffset\": 32.0,\n",
      "        \"zreference\": \"MSL\"\n",
      "      }\n",
      "    }\n",
      "  }\n",
      "}\n"
     ]
    }
   ],
   "execution_count": 3
  },
  {
   "cell_type": "code",
   "id": "ac3769a1-7781-4a18-94af-6aedf7db0e39",
   "metadata": {
    "ExecuteTime": {
     "end_time": "2025-02-18T04:28:41.418659Z",
     "start_time": "2025-02-18T04:28:40.477169Z"
    }
   },
   "source": [
    "import json\n",
    "import IPython.display\n",
    "import plantweb.render\n",
    "\n",
    "def displayPlantuml(content):\n",
    "    _svg = plantweb.render.render(\n",
    "                content,\n",
    "                engine=\"plantuml\",\n",
    "                format=\"svg\",\n",
    "                cacheopts={\"use_cache\":False}\n",
    "            )\n",
    "    IPython.display.display(\n",
    "        IPython.display.SVG(\n",
    "            _svg[0]\n",
    "        )\n",
    "    )\n",
    "\n",
    "displayPlantuml(f\"@startjson\\n{json.dumps(data, indent=2, cls=pqg.JSONDateTimeEncoder)}\\n@endjson\")\n"
   ],
   "outputs": [
    {
     "name": "stderr",
     "output_type": "stream",
     "text": [
      "INFO:plantweb.defaults:Defaults file /Users/vieglais/.plantwebrc doesn't exists\n",
      "INFO:plantweb.defaults:Defaults file /Users/vieglais/Documents/Projects/isamples/source/pqg_dev/pqg/.plantwebrc doesn't exists\n"
     ]
    },
    {
     "data": {
      "text/plain": [
       "<IPython.core.display.SVG object>"
      ],
      "image/svg+xml": "<svg xmlns=\"http://www.w3.org/2000/svg\" xmlns:xlink=\"http://www.w3.org/1999/xlink\" contentStyleType=\"text/css\" data-diagram-type=\"JSON\" height=\"398px\" preserveAspectRatio=\"none\" style=\"width:1166px;height:398px;background:#FFFFFF;\" version=\"1.1\" viewBox=\"0 0 1166 398\" width=\"1166px\" zoomAndPan=\"magnify\"><defs/><g><rect fill=\"#F1F1F1\" height=\"101.4844\" rx=\"5\" ry=\"5\" style=\"stroke:#F1F1F1;stroke-width:1.5;\" width=\"290.6553\" x=\"10\" y=\"44\"/><text fill=\"#000000\" font-family=\"sans-serif\" font-size=\"14\" font-weight=\"bold\" lengthAdjust=\"spacing\" textLength=\"24.8418\" x=\"15\" y=\"58.9951\">pid</text><text fill=\"#000000\" font-family=\"sans-serif\" font-size=\"14\" lengthAdjust=\"spacing\" textLength=\"38.7461\" x=\"125.4951\" y=\"58.9951\">ms01</text><line style=\"stroke:#000000;stroke-width:1;\" x1=\"120.4951\" x2=\"120.4951\" y1=\"44\" y2=\"64.2969\"/><line style=\"stroke:#000000;stroke-width:1;\" x1=\"10\" x2=\"300.6553\" y1=\"64.2969\" y2=\"64.2969\"/><text fill=\"#000000\" font-family=\"sans-serif\" font-size=\"14\" font-weight=\"bold\" lengthAdjust=\"spacing\" textLength=\"38.5615\" x=\"15\" y=\"79.292\">label</text><text fill=\"#000000\" font-family=\"sans-serif\" font-size=\"14\" lengthAdjust=\"spacing\" textLength=\"43.2305\" x=\"125.4951\" y=\"79.292\">MS 01</text><line style=\"stroke:#000000;stroke-width:1;\" x1=\"120.4951\" x2=\"120.4951\" y1=\"64.2969\" y2=\"84.5938\"/><line style=\"stroke:#000000;stroke-width:1;\" x1=\"10\" x2=\"300.6553\" y1=\"84.5938\" y2=\"84.5938\"/><text fill=\"#000000\" font-family=\"sans-serif\" font-size=\"14\" font-weight=\"bold\" lengthAdjust=\"spacing\" textLength=\"88.9492\" x=\"15\" y=\"99.5889\">description</text><text fill=\"#000000\" font-family=\"sans-serif\" font-size=\"14\" lengthAdjust=\"spacing\" textLength=\"170.1602\" x=\"125.4951\" y=\"99.5889\">MS 01 description string</text><line style=\"stroke:#000000;stroke-width:1;\" x1=\"120.4951\" x2=\"120.4951\" y1=\"84.5938\" y2=\"104.8906\"/><line style=\"stroke:#000000;stroke-width:1;\" x1=\"10\" x2=\"300.6553\" y1=\"104.8906\" y2=\"104.8906\"/><text fill=\"#000000\" font-family=\"sans-serif\" font-size=\"14\" font-weight=\"bold\" lengthAdjust=\"spacing\" textLength=\"79.2559\" x=\"15\" y=\"119.8857\">registrant</text><text fill=\"#000000\" font-family=\"sans-serif\" font-size=\"14\" lengthAdjust=\"spacing\" textLength=\"13.3506\" x=\"125.4951\" y=\"119.8857\">   </text><line style=\"stroke:#000000;stroke-width:1;\" x1=\"120.4951\" x2=\"120.4951\" y1=\"104.8906\" y2=\"125.1875\"/><line style=\"stroke:#000000;stroke-width:1;\" x1=\"10\" x2=\"300.6553\" y1=\"125.1875\" y2=\"125.1875\"/><text fill=\"#000000\" font-family=\"sans-serif\" font-size=\"14\" font-weight=\"bold\" lengthAdjust=\"spacing\" textLength=\"100.4951\" x=\"15\" y=\"140.1826\">produced_by</text><text fill=\"#000000\" font-family=\"sans-serif\" font-size=\"14\" lengthAdjust=\"spacing\" textLength=\"13.3506\" x=\"125.4951\" y=\"140.1826\">   </text><line style=\"stroke:#000000;stroke-width:1;\" x1=\"120.4951\" x2=\"120.4951\" y1=\"125.1875\" y2=\"145.4844\"/><rect fill=\"#FFFFFF\" fill-opacity=\"0.00000\" height=\"101.4844\" rx=\"5\" ry=\"5\" style=\"stroke:#000000;stroke-width:1.5;\" width=\"290.6553\" x=\"10\" y=\"44\"/><rect fill=\"#F1F1F1\" height=\"101.4844\" rx=\"5\" ry=\"5\" style=\"stroke:#F1F1F1;stroke-width:1.5;\" width=\"190.3037\" x=\"435\" y=\"10\"/><text fill=\"#000000\" font-family=\"sans-serif\" font-size=\"14\" font-weight=\"bold\" lengthAdjust=\"spacing\" textLength=\"24.8418\" x=\"440\" y=\"24.9951\">pid</text><text fill=\"#000000\" font-family=\"sans-serif\" font-size=\"14\" lengthAdjust=\"spacing\" textLength=\"56.3486\" x=\"538.9492\" y=\"24.9951\">agent_0</text><line style=\"stroke:#000000;stroke-width:1;\" x1=\"533.9492\" x2=\"533.9492\" y1=\"10\" y2=\"30.2969\"/><line style=\"stroke:#000000;stroke-width:1;\" x1=\"435\" x2=\"625.3037\" y1=\"30.2969\" y2=\"30.2969\"/><text fill=\"#000000\" font-family=\"sans-serif\" font-size=\"14\" font-weight=\"bold\" lengthAdjust=\"spacing\" textLength=\"38.5615\" x=\"440\" y=\"45.292\">label</text><text fill=\"#000000\" font-family=\"sans-serif\" font-size=\"14\" lengthAdjust=\"spacing\" textLength=\"81.3545\" x=\"538.9492\" y=\"45.292\">Scott Smith</text><line style=\"stroke:#000000;stroke-width:1;\" x1=\"533.9492\" x2=\"533.9492\" y1=\"30.2969\" y2=\"50.5938\"/><line style=\"stroke:#000000;stroke-width:1;\" x1=\"435\" x2=\"625.3037\" y1=\"50.5938\" y2=\"50.5938\"/><text fill=\"#000000\" font-family=\"sans-serif\" font-size=\"14\" font-weight=\"bold\" lengthAdjust=\"spacing\" textLength=\"88.9492\" x=\"440\" y=\"65.5889\">description</text><text fill=\"#000000\" font-family=\"sans-serif\" font-size=\"14\" lengthAdjust=\"spacing\" textLength=\"8.4014\" x=\"538.9492\" y=\"65.5889\">␀</text><line style=\"stroke:#000000;stroke-width:1;\" x1=\"533.9492\" x2=\"533.9492\" y1=\"50.5938\" y2=\"70.8906\"/><line style=\"stroke:#000000;stroke-width:1;\" x1=\"435\" x2=\"625.3037\" y1=\"70.8906\" y2=\"70.8906\"/><text fill=\"#000000\" font-family=\"sans-serif\" font-size=\"14\" font-weight=\"bold\" lengthAdjust=\"spacing\" textLength=\"76.5488\" x=\"440\" y=\"85.8857\">affiliation</text><text fill=\"#000000\" font-family=\"sans-serif\" font-size=\"14\" lengthAdjust=\"spacing\" textLength=\"8.4014\" x=\"538.9492\" y=\"85.8857\">␀</text><line style=\"stroke:#000000;stroke-width:1;\" x1=\"533.9492\" x2=\"533.9492\" y1=\"70.8906\" y2=\"91.1875\"/><line style=\"stroke:#000000;stroke-width:1;\" x1=\"435\" x2=\"625.3037\" y1=\"91.1875\" y2=\"91.1875\"/><text fill=\"#000000\" font-family=\"sans-serif\" font-size=\"14\" font-weight=\"bold\" lengthAdjust=\"spacing\" textLength=\"59.0146\" x=\"440\" y=\"106.1826\">contact</text><text fill=\"#000000\" font-family=\"sans-serif\" font-size=\"14\" lengthAdjust=\"spacing\" textLength=\"8.4014\" x=\"538.9492\" y=\"106.1826\">␀</text><line style=\"stroke:#000000;stroke-width:1;\" x1=\"533.9492\" x2=\"533.9492\" y1=\"91.1875\" y2=\"111.4844\"/><rect fill=\"#FFFFFF\" fill-opacity=\"0.00000\" height=\"101.4844\" rx=\"5\" ry=\"5\" style=\"stroke:#000000;stroke-width:1.5;\" width=\"190.3037\" x=\"435\" y=\"10\"/><rect fill=\"#F1F1F1\" height=\"121.7813\" rx=\"5\" ry=\"5\" style=\"stroke:#F1F1F1;stroke-width:1.5;\" width=\"384.376\" x=\"338\" y=\"129.7422\"/><text fill=\"#000000\" font-family=\"sans-serif\" font-size=\"14\" font-weight=\"bold\" lengthAdjust=\"spacing\" textLength=\"24.8418\" x=\"343\" y=\"144.7373\">pid</text><text fill=\"#000000\" font-family=\"sans-serif\" font-size=\"14\" lengthAdjust=\"spacing\" textLength=\"64.6885\" x=\"461.2949\" y=\"144.7373\">event_01</text><line style=\"stroke:#000000;stroke-width:1;\" x1=\"456.2949\" x2=\"456.2949\" y1=\"129.7422\" y2=\"150.0391\"/><line style=\"stroke:#000000;stroke-width:1;\" x1=\"338\" x2=\"722.376\" y1=\"150.0391\" y2=\"150.0391\"/><text fill=\"#000000\" font-family=\"sans-serif\" font-size=\"14\" font-weight=\"bold\" lengthAdjust=\"spacing\" textLength=\"38.5615\" x=\"343\" y=\"165.0342\">label</text><text fill=\"#000000\" font-family=\"sans-serif\" font-size=\"14\" lengthAdjust=\"spacing\" textLength=\"8.4014\" x=\"461.2949\" y=\"165.0342\">␀</text><line style=\"stroke:#000000;stroke-width:1;\" x1=\"456.2949\" x2=\"456.2949\" y1=\"150.0391\" y2=\"170.3359\"/><line style=\"stroke:#000000;stroke-width:1;\" x1=\"338\" x2=\"722.376\" y1=\"170.3359\" y2=\"170.3359\"/><text fill=\"#000000\" font-family=\"sans-serif\" font-size=\"14\" font-weight=\"bold\" lengthAdjust=\"spacing\" textLength=\"88.9492\" x=\"343\" y=\"185.3311\">description</text><text fill=\"#000000\" font-family=\"sans-serif\" font-size=\"14\" lengthAdjust=\"spacing\" textLength=\"8.4014\" x=\"461.2949\" y=\"185.3311\">␀</text><line style=\"stroke:#000000;stroke-width:1;\" x1=\"456.2949\" x2=\"456.2949\" y1=\"170.3359\" y2=\"190.6328\"/><line style=\"stroke:#000000;stroke-width:1;\" x1=\"338\" x2=\"722.376\" y1=\"190.6328\" y2=\"190.6328\"/><text fill=\"#000000\" font-family=\"sans-serif\" font-size=\"14\" font-weight=\"bold\" lengthAdjust=\"spacing\" textLength=\"55.7744\" x=\"343\" y=\"205.6279\">tstamp</text><text fill=\"#000000\" font-family=\"sans-serif\" font-size=\"14\" lengthAdjust=\"spacing\" textLength=\"256.0811\" x=\"461.2949\" y=\"205.6279\">2025-02-17T23:28:40.344072-05:00</text><line style=\"stroke:#000000;stroke-width:1;\" x1=\"456.2949\" x2=\"456.2949\" y1=\"190.6328\" y2=\"210.9297\"/><line style=\"stroke:#000000;stroke-width:1;\" x1=\"338\" x2=\"722.376\" y1=\"210.9297\" y2=\"210.9297\"/><text fill=\"#000000\" font-family=\"sans-serif\" font-size=\"14\" font-weight=\"bold\" lengthAdjust=\"spacing\" textLength=\"107.707\" x=\"343\" y=\"225.9248\">responsibility</text><text fill=\"#000000\" font-family=\"sans-serif\" font-size=\"14\" lengthAdjust=\"spacing\" textLength=\"13.3506\" x=\"461.2949\" y=\"225.9248\">   </text><line style=\"stroke:#000000;stroke-width:1;\" x1=\"456.2949\" x2=\"456.2949\" y1=\"210.9297\" y2=\"231.2266\"/><line style=\"stroke:#000000;stroke-width:1;\" x1=\"338\" x2=\"722.376\" y1=\"231.2266\" y2=\"231.2266\"/><text fill=\"#000000\" font-family=\"sans-serif\" font-size=\"14\" font-weight=\"bold\" lengthAdjust=\"spacing\" textLength=\"108.2949\" x=\"343\" y=\"246.2217\">sampling_site</text><text fill=\"#000000\" font-family=\"sans-serif\" font-size=\"14\" lengthAdjust=\"spacing\" textLength=\"13.3506\" x=\"461.2949\" y=\"246.2217\">   </text><line style=\"stroke:#000000;stroke-width:1;\" x1=\"456.2949\" x2=\"456.2949\" y1=\"231.2266\" y2=\"251.5234\"/><rect fill=\"#FFFFFF\" fill-opacity=\"0.00000\" height=\"121.7813\" rx=\"5\" ry=\"5\" style=\"stroke:#000000;stroke-width:1.5;\" width=\"384.376\" x=\"338\" y=\"129.7422\"/><rect fill=\"#F1F1F1\" height=\"101.4844\" rx=\"5\" ry=\"5\" style=\"stroke:#F1F1F1;stroke-width:1.5;\" width=\"187.2891\" x=\"759\" y=\"126\"/><text fill=\"#000000\" font-family=\"sans-serif\" font-size=\"14\" font-weight=\"bold\" lengthAdjust=\"spacing\" textLength=\"24.8418\" x=\"764\" y=\"140.9951\">pid</text><text fill=\"#000000\" font-family=\"sans-serif\" font-size=\"14\" lengthAdjust=\"spacing\" textLength=\"56.3486\" x=\"862.9492\" y=\"140.9951\">agent_5</text><line style=\"stroke:#000000;stroke-width:1;\" x1=\"857.9492\" x2=\"857.9492\" y1=\"126\" y2=\"146.2969\"/><line style=\"stroke:#000000;stroke-width:1;\" x1=\"759\" x2=\"946.2891\" y1=\"146.2969\" y2=\"146.2969\"/><text fill=\"#000000\" font-family=\"sans-serif\" font-size=\"14\" font-weight=\"bold\" lengthAdjust=\"spacing\" textLength=\"38.5615\" x=\"764\" y=\"161.292\">label</text><text fill=\"#000000\" font-family=\"sans-serif\" font-size=\"14\" lengthAdjust=\"spacing\" textLength=\"78.3398\" x=\"862.9492\" y=\"161.292\">Tom Chase</text><line style=\"stroke:#000000;stroke-width:1;\" x1=\"857.9492\" x2=\"857.9492\" y1=\"146.2969\" y2=\"166.5938\"/><line style=\"stroke:#000000;stroke-width:1;\" x1=\"759\" x2=\"946.2891\" y1=\"166.5938\" y2=\"166.5938\"/><text fill=\"#000000\" font-family=\"sans-serif\" font-size=\"14\" font-weight=\"bold\" lengthAdjust=\"spacing\" textLength=\"88.9492\" x=\"764\" y=\"181.5889\">description</text><text fill=\"#000000\" font-family=\"sans-serif\" font-size=\"14\" lengthAdjust=\"spacing\" textLength=\"8.4014\" x=\"862.9492\" y=\"181.5889\">␀</text><line style=\"stroke:#000000;stroke-width:1;\" x1=\"857.9492\" x2=\"857.9492\" y1=\"166.5938\" y2=\"186.8906\"/><line style=\"stroke:#000000;stroke-width:1;\" x1=\"759\" x2=\"946.2891\" y1=\"186.8906\" y2=\"186.8906\"/><text fill=\"#000000\" font-family=\"sans-serif\" font-size=\"14\" font-weight=\"bold\" lengthAdjust=\"spacing\" textLength=\"76.5488\" x=\"764\" y=\"201.8857\">affiliation</text><text fill=\"#000000\" font-family=\"sans-serif\" font-size=\"14\" lengthAdjust=\"spacing\" textLength=\"8.4014\" x=\"862.9492\" y=\"201.8857\">␀</text><line style=\"stroke:#000000;stroke-width:1;\" x1=\"857.9492\" x2=\"857.9492\" y1=\"186.8906\" y2=\"207.1875\"/><line style=\"stroke:#000000;stroke-width:1;\" x1=\"759\" x2=\"946.2891\" y1=\"207.1875\" y2=\"207.1875\"/><text fill=\"#000000\" font-family=\"sans-serif\" font-size=\"14\" font-weight=\"bold\" lengthAdjust=\"spacing\" textLength=\"59.0146\" x=\"764\" y=\"222.1826\">contact</text><text fill=\"#000000\" font-family=\"sans-serif\" font-size=\"14\" lengthAdjust=\"spacing\" textLength=\"8.4014\" x=\"862.9492\" y=\"222.1826\">␀</text><line style=\"stroke:#000000;stroke-width:1;\" x1=\"857.9492\" x2=\"857.9492\" y1=\"207.1875\" y2=\"227.4844\"/><rect fill=\"#FFFFFF\" fill-opacity=\"0.00000\" height=\"101.4844\" rx=\"5\" ry=\"5\" style=\"stroke:#000000;stroke-width:1.5;\" width=\"187.2891\" x=\"759\" y=\"126\"/><rect fill=\"#F1F1F1\" height=\"81.1875\" rx=\"5\" ry=\"5\" style=\"stroke:#F1F1F1;stroke-width:1.5;\" width=\"159.0498\" x=\"773\" y=\"245.1484\"/><text fill=\"#000000\" font-family=\"sans-serif\" font-size=\"14\" font-weight=\"bold\" lengthAdjust=\"spacing\" textLength=\"24.8418\" x=\"778\" y=\"260.1436\">pid</text><text fill=\"#000000\" font-family=\"sans-serif\" font-size=\"14\" lengthAdjust=\"spacing\" textLength=\"50.1006\" x=\"876.9492\" y=\"260.1436\">site_01</text><line style=\"stroke:#000000;stroke-width:1;\" x1=\"871.9492\" x2=\"871.9492\" y1=\"245.1484\" y2=\"265.4453\"/><line style=\"stroke:#000000;stroke-width:1;\" x1=\"773\" x2=\"932.0498\" y1=\"265.4453\" y2=\"265.4453\"/><text fill=\"#000000\" font-family=\"sans-serif\" font-size=\"14\" font-weight=\"bold\" lengthAdjust=\"spacing\" textLength=\"38.5615\" x=\"778\" y=\"280.4404\">label</text><text fill=\"#000000\" font-family=\"sans-serif\" font-size=\"14\" lengthAdjust=\"spacing\" textLength=\"8.4014\" x=\"876.9492\" y=\"280.4404\">␀</text><line style=\"stroke:#000000;stroke-width:1;\" x1=\"871.9492\" x2=\"871.9492\" y1=\"265.4453\" y2=\"285.7422\"/><line style=\"stroke:#000000;stroke-width:1;\" x1=\"773\" x2=\"932.0498\" y1=\"285.7422\" y2=\"285.7422\"/><text fill=\"#000000\" font-family=\"sans-serif\" font-size=\"14\" font-weight=\"bold\" lengthAdjust=\"spacing\" textLength=\"88.9492\" x=\"778\" y=\"300.7373\">description</text><text fill=\"#000000\" font-family=\"sans-serif\" font-size=\"14\" lengthAdjust=\"spacing\" textLength=\"8.4014\" x=\"876.9492\" y=\"300.7373\">␀</text><line style=\"stroke:#000000;stroke-width:1;\" x1=\"871.9492\" x2=\"871.9492\" y1=\"285.7422\" y2=\"306.0391\"/><line style=\"stroke:#000000;stroke-width:1;\" x1=\"773\" x2=\"932.0498\" y1=\"306.0391\" y2=\"306.0391\"/><text fill=\"#000000\" font-family=\"sans-serif\" font-size=\"14\" font-weight=\"bold\" lengthAdjust=\"spacing\" textLength=\"63.2393\" x=\"778\" y=\"321.0342\">location</text><text fill=\"#000000\" font-family=\"sans-serif\" font-size=\"14\" lengthAdjust=\"spacing\" textLength=\"13.3506\" x=\"876.9492\" y=\"321.0342\">   </text><line style=\"stroke:#000000;stroke-width:1;\" x1=\"871.9492\" x2=\"871.9492\" y1=\"306.0391\" y2=\"326.3359\"/><rect fill=\"#FFFFFF\" fill-opacity=\"0.00000\" height=\"81.1875\" rx=\"5\" ry=\"5\" style=\"stroke:#000000;stroke-width:1.5;\" width=\"159.0498\" x=\"773\" y=\"245.1484\"/><rect fill=\"#F1F1F1\" height=\"142.0781\" rx=\"5\" ry=\"5\" style=\"stroke:#F1F1F1;stroke-width:1.5;\" width=\"171.8945\" x=\"983\" y=\"244.7031\"/><text fill=\"#000000\" font-family=\"sans-serif\" font-size=\"14\" font-weight=\"bold\" lengthAdjust=\"spacing\" textLength=\"24.8418\" x=\"988\" y=\"259.6982\">pid</text><text fill=\"#000000\" font-family=\"sans-serif\" font-size=\"14\" lengthAdjust=\"spacing\" textLength=\"50.8799\" x=\"1086.9492\" y=\"259.6982\">geo_01</text><line style=\"stroke:#000000;stroke-width:1;\" x1=\"1081.9492\" x2=\"1081.9492\" y1=\"244.7031\" y2=\"265\"/><line style=\"stroke:#000000;stroke-width:1;\" x1=\"983\" x2=\"1154.8945\" y1=\"265\" y2=\"265\"/><text fill=\"#000000\" font-family=\"sans-serif\" font-size=\"14\" font-weight=\"bold\" lengthAdjust=\"spacing\" textLength=\"38.5615\" x=\"988\" y=\"279.9951\">label</text><text fill=\"#000000\" font-family=\"sans-serif\" font-size=\"14\" lengthAdjust=\"spacing\" textLength=\"8.4014\" x=\"1086.9492\" y=\"279.9951\">␀</text><line style=\"stroke:#000000;stroke-width:1;\" x1=\"1081.9492\" x2=\"1081.9492\" y1=\"265\" y2=\"285.2969\"/><line style=\"stroke:#000000;stroke-width:1;\" x1=\"983\" x2=\"1154.8945\" y1=\"285.2969\" y2=\"285.2969\"/><text fill=\"#000000\" font-family=\"sans-serif\" font-size=\"14\" font-weight=\"bold\" lengthAdjust=\"spacing\" textLength=\"88.9492\" x=\"988\" y=\"300.292\">description</text><text fill=\"#000000\" font-family=\"sans-serif\" font-size=\"14\" lengthAdjust=\"spacing\" textLength=\"8.4014\" x=\"1086.9492\" y=\"300.292\">␀</text><line style=\"stroke:#000000;stroke-width:1;\" x1=\"1081.9492\" x2=\"1081.9492\" y1=\"285.2969\" y2=\"305.5938\"/><line style=\"stroke:#000000;stroke-width:1;\" x1=\"983\" x2=\"1154.8945\" y1=\"305.5938\" y2=\"305.5938\"/><text fill=\"#000000\" font-family=\"sans-serif\" font-size=\"14\" font-weight=\"bold\" lengthAdjust=\"spacing\" textLength=\"75.3799\" x=\"988\" y=\"320.5889\">longitude</text><text fill=\"#000000\" font-family=\"sans-serif\" font-size=\"14\" lengthAdjust=\"spacing\" textLength=\"62.9453\" x=\"1086.9492\" y=\"320.5889\">-76.5656</text><line style=\"stroke:#000000;stroke-width:1;\" x1=\"1081.9492\" x2=\"1081.9492\" y1=\"305.5938\" y2=\"325.8906\"/><line style=\"stroke:#000000;stroke-width:1;\" x1=\"983\" x2=\"1154.8945\" y1=\"325.8906\" y2=\"325.8906\"/><text fill=\"#000000\" font-family=\"sans-serif\" font-size=\"14\" font-weight=\"bold\" lengthAdjust=\"spacing\" textLength=\"61.9131\" x=\"988\" y=\"340.8857\">latitude</text><text fill=\"#000000\" font-family=\"sans-serif\" font-size=\"14\" lengthAdjust=\"spacing\" textLength=\"48.9863\" x=\"1086.9492\" y=\"340.8857\">39.023</text><line style=\"stroke:#000000;stroke-width:1;\" x1=\"1081.9492\" x2=\"1081.9492\" y1=\"325.8906\" y2=\"346.1875\"/><line style=\"stroke:#000000;stroke-width:1;\" x1=\"983\" x2=\"1154.8945\" y1=\"346.1875\" y2=\"346.1875\"/><text fill=\"#000000\" font-family=\"sans-serif\" font-size=\"14\" font-weight=\"bold\" lengthAdjust=\"spacing\" textLength=\"54.4688\" x=\"988\" y=\"361.1826\">zoffset</text><text fill=\"#000000\" font-family=\"sans-serif\" font-size=\"14\" lengthAdjust=\"spacing\" textLength=\"31.1719\" x=\"1086.9492\" y=\"361.1826\">32.0</text><line style=\"stroke:#000000;stroke-width:1;\" x1=\"1081.9492\" x2=\"1081.9492\" y1=\"346.1875\" y2=\"366.4844\"/><line style=\"stroke:#000000;stroke-width:1;\" x1=\"983\" x2=\"1154.8945\" y1=\"366.4844\" y2=\"366.4844\"/><text fill=\"#000000\" font-family=\"sans-serif\" font-size=\"14\" font-weight=\"bold\" lengthAdjust=\"spacing\" textLength=\"84.2939\" x=\"988\" y=\"381.4795\">zreference</text><text fill=\"#000000\" font-family=\"sans-serif\" font-size=\"14\" lengthAdjust=\"spacing\" textLength=\"28.7656\" x=\"1086.9492\" y=\"381.4795\">MSL</text><line style=\"stroke:#000000;stroke-width:1;\" x1=\"1081.9492\" x2=\"1081.9492\" y1=\"366.4844\" y2=\"386.7813\"/><rect fill=\"#FFFFFF\" fill-opacity=\"0.00000\" height=\"142.0781\" rx=\"5\" ry=\"5\" style=\"stroke:#000000;stroke-width:1.5;\" width=\"171.8945\" x=\"983\" y=\"244.7031\"/><path d=\"M289,114.7422 L302,114.7422 C343.8625,114.7422 388.9151,105.9794 427.7945,95.5137 \" fill=\"#FFFFFF\" fill-opacity=\"0.00000\" style=\"stroke:#000000;stroke-width:1;stroke-dasharray:3.0,3.0;\"/><path d=\"M428.64,98.59 L430.1018,94.8796 L426.949,92.4374 L435.4853,93.4 L428.64,98.59 \" fill=\"#000000\" style=\"stroke:#000000;stroke-width:1;\"/><ellipse cx=\"289\" cy=\"114.7422\" fill=\"#000000\" rx=\"3\" ry=\"3\" style=\"stroke:#000000;stroke-width:1;\"/><path d=\"M709.5,220.7422 L722.5,220.7422 C732.1501,220.7422 741.9999,219.6333 751.7429,217.7676 \" fill=\"#FFFFFF\" fill-opacity=\"0.00000\" style=\"stroke:#000000;stroke-width:1;stroke-dasharray:3.0,3.0;\"/><path d=\"M752.3703,220.7374 L753.9703,217.297 L751.1155,214.7977 L759.1675,216.1991 L752.3703,220.7374 \" fill=\"#000000\" style=\"stroke:#000000;stroke-width:1;\"/><ellipse cx=\"709.5\" cy=\"220.7422\" fill=\"#000000\" rx=\"3\" ry=\"3\" style=\"stroke:#000000;stroke-width:1;\"/><path d=\"M920,315.7422 L933,315.7422 C946.6956,315.7422 961.1698,315.7422 975.3602,315.7422 \" fill=\"#FFFFFF\" fill-opacity=\"0.00000\" style=\"stroke:#000000;stroke-width:1;stroke-dasharray:3.0,3.0;\"/><path d=\"M975.3602,318.8812 L977.7144,315.7422 L975.3602,312.6031 L983.2078,315.7422 L975.3602,318.8812 \" fill=\"#000000\" style=\"stroke:#000000;stroke-width:1;\"/><ellipse cx=\"920\" cy=\"315.7422\" fill=\"#000000\" rx=\"3\" ry=\"3\" style=\"stroke:#000000;stroke-width:1;\"/><path d=\"M709.5,241.7422 L722.5,241.7422 C736.8564,241.7422 751.6549,244.1965 765.8859,247.9457 \" fill=\"#FFFFFF\" fill-opacity=\"0.00000\" style=\"stroke:#000000;stroke-width:1;stroke-dasharray:3.0,3.0;\"/><path d=\"M765.0569,250.8997 L768.1014,248.5675 L766.7149,244.9918 L773.2707,250.0183 L765.0569,250.8997 \" fill=\"#000000\" style=\"stroke:#000000;stroke-width:1;\"/><ellipse cx=\"709.5\" cy=\"241.7422\" fill=\"#000000\" rx=\"3\" ry=\"3\" style=\"stroke:#000000;stroke-width:1;\"/><path d=\"M289,135.7422 L302,135.7422 C311.3784,135.7422 320.915,136.1892 330.5049,137.0027 \" fill=\"#FFFFFF\" fill-opacity=\"0.00000\" style=\"stroke:#000000;stroke-width:1;stroke-dasharray:3.0,3.0;\"/><path d=\"M330.2132,140.0829 L332.815,137.2216 L330.7967,133.9226 L338.2053,137.7322 L330.2132,140.0829 \" fill=\"#000000\" style=\"stroke:#000000;stroke-width:1;\"/><ellipse cx=\"289\" cy=\"135.7422\" fill=\"#000000\" rx=\"3\" ry=\"3\" style=\"stroke:#000000;stroke-width:1;\"/><!--SRC=[VLFHRfim57ttLrXvQgM138IauwbgkqtA4grQahv6nboeEx2HRJ9rK_wzDeL2soGlI3xdSkxnyRtNsb1bdhGKw3_2U5BpR9BWIQL9CFdYW9AcK3fejSOzbe5cYjU6I_76u168jL5S5A_52WfkprGOM-jw35re0SBiI5itRhLcqXYyhhXvxBdtBKLJbXr1yvoNd7ucc1I6CjE15ZkqTcebiuP1jakVF_c1VUid-6Xef7hIXx51LhLJ2KaOUoJqWlacZ9BmAfaIFvfEoJpqI9oGj-igqBKKcgVMlndCV8mdxkh70MraXMyVgOQ1EsNiJ4J7GkfYifIsrodjA-uqDt34dOE7h8wcTTvMALdlgTSUr0kGO_4JycSRj2r4mKsJEV_UVER7itZsJjBqRFJL9s4qulx9FDVWaeb2dum91Jae40nUPtyvwRW3why7T43N8B9shT1zQMT_krhYFIZjjYFmtOZuOGg61XTRyKV8lm8pMTMy16nu1PVeuiVz4clPA0OuS_l3qyRTyH8jw9xYturmTGd-LODOtFti0VnDxBcIehAJWnOFgw5WDlLkk5qgKDO6VbYXEyXfKnhx1vEPVUS4RpVVlIkqfA9exEWb60IwbLPNFLjk_G80]--></g></svg>"
     },
     "metadata": {},
     "output_type": "display_data"
    }
   ],
   "execution_count": 4
  },
  {
   "cell_type": "code",
   "id": "7dbb22af790eaa7a",
   "metadata": {
    "ExecuteTime": {
     "end_time": "2025-02-18T04:28:41.475171Z",
     "start_time": "2025-02-18T04:28:41.436310Z"
    }
   },
   "source": [
    "import IPython.display\n",
    "import graphviz\n",
    "\n",
    "nlights = graph.getNodeIds(\"ms01\")\n",
    "nlights"
   ],
   "outputs": [
    {
     "data": {
      "text/plain": [
       "{'agent_0', 'agent_5', 'event_01', 'geo_01', 'ms01', 'site_01'}"
      ]
     },
     "execution_count": 5,
     "metadata": {},
     "output_type": "execute_result"
    }
   ],
   "execution_count": 5
  },
  {
   "cell_type": "code",
   "id": "feee1416-7563-4ffa-8e59-1f988865e39f",
   "metadata": {
    "ExecuteTime": {
     "end_time": "2025-02-18T04:28:41.787151Z",
     "start_time": "2025-02-18T04:28:41.487752Z"
    }
   },
   "source": [
    "dot = \"\\n\".join(graph.toGraphviz(nlights=nlights))\n",
    "gv = graphviz.Source(dot)\n",
    "IPython.display.display(gv)"
   ],
   "outputs": [
    {
     "data": {
      "image/svg+xml": "<?xml version=\"1.0\" encoding=\"UTF-8\" standalone=\"no\"?>\n<!DOCTYPE svg PUBLIC \"-//W3C//DTD SVG 1.1//EN\"\n \"http://www.w3.org/Graphics/SVG/1.1/DTD/svg11.dtd\">\n<!-- Generated by graphviz version 12.2.1 (20241206.2353)\n -->\n<!-- Pages: 1 -->\n<svg width=\"1351pt\" height=\"525pt\"\n viewBox=\"0.00 0.00 1351.27 524.50\" xmlns=\"http://www.w3.org/2000/svg\" xmlns:xlink=\"http://www.w3.org/1999/xlink\">\n<g id=\"graph0\" class=\"graph\" transform=\"scale(1 1) rotate(0) translate(4 520.5)\">\n<polygon fill=\"white\" stroke=\"none\" points=\"-4,4 -4,-520.5 1347.27,-520.5 1347.27,4 -4,4\"/>\n<!-- sample_0 -->\n<g id=\"node1\" class=\"node\">\n<title>sample_0</title>\n<polygon fill=\"none\" stroke=\"black\" points=\"273,-451.5 273,-516 373,-516 373,-451.5 273,-451.5\"/>\n<text text-anchor=\"middle\" x=\"323\" y=\"-502.5\" font-family=\"JetBrains Mono\" font-size=\"10.00\">sample_0</text>\n<polyline fill=\"none\" stroke=\"black\" points=\"273,-494.5 373,-494.5\"/>\n<text text-anchor=\"middle\" x=\"323\" y=\"-481\" font-family=\"JetBrains Mono\" font-size=\"10.00\">MaterialSample</text>\n<polyline fill=\"none\" stroke=\"black\" points=\"273,-473 373,-473\"/>\n<text text-anchor=\"middle\" x=\"323\" y=\"-459.5\" font-family=\"JetBrains Mono\" font-size=\"10.00\">Fake Sample 0</text>\n</g>\n<!-- agent_0 -->\n<g id=\"node2\" class=\"node\">\n<title>agent_0</title>\n<polygon fill=\"none\" stroke=\"red\" points=\"310,-338.75 310,-403.25 392,-403.25 392,-338.75 310,-338.75\"/>\n<text text-anchor=\"middle\" x=\"351\" y=\"-389.75\" font-family=\"JetBrains Mono\" font-size=\"10.00\">agent_0</text>\n<polyline fill=\"none\" stroke=\"red\" points=\"310,-381.75 392,-381.75\"/>\n<text text-anchor=\"middle\" x=\"351\" y=\"-368.25\" font-family=\"JetBrains Mono\" font-size=\"10.00\">Agent</text>\n<polyline fill=\"none\" stroke=\"red\" points=\"310,-360.25 392,-360.25\"/>\n<text text-anchor=\"middle\" x=\"351\" y=\"-346.75\" font-family=\"JetBrains Mono\" font-size=\"10.00\">Scott Smith</text>\n</g>\n<!-- sample_0&#45;&gt;agent_0 -->\n<g id=\"edge1\" class=\"edge\">\n<title>sample_0&#45;&gt;agent_0</title>\n<path fill=\"none\" stroke=\"black\" d=\"M328.47,-451.25C330.32,-441.72 332.54,-431.26 335,-421.75 335.62,-419.36 336.28,-416.91 336.98,-414.45\"/>\n<polygon fill=\"black\" stroke=\"black\" points=\"340.26,-415.72 339.77,-405.14 333.55,-413.72 340.26,-415.72\"/>\n<text text-anchor=\"middle\" x=\"357.5\" y=\"-425.4\" font-family=\"JetBrains Mono\" font-size=\"8.00\">registrant</text>\n</g>\n<!-- event_0 -->\n<g id=\"node3\" class=\"node\">\n<title>event_0</title>\n<polygon fill=\"none\" stroke=\"black\" points=\"198,-338.75 198,-403.25 292,-403.25 292,-338.75 198,-338.75\"/>\n<text text-anchor=\"middle\" x=\"245\" y=\"-389.75\" font-family=\"JetBrains Mono\" font-size=\"10.00\">event_0</text>\n<polyline fill=\"none\" stroke=\"black\" points=\"198,-381.75 292,-381.75\"/>\n<text text-anchor=\"middle\" x=\"245\" y=\"-368.25\" font-family=\"JetBrains Mono\" font-size=\"10.00\">SamplingEvent</text>\n<polyline fill=\"none\" stroke=\"black\" points=\"198,-360.25 292,-360.25\"/>\n<text text-anchor=\"middle\" x=\"245\" y=\"-346.75\" font-family=\"JetBrains Mono\" font-size=\"10.00\">None</text>\n</g>\n<!-- sample_0&#45;&gt;event_0 -->\n<g id=\"edge5\" class=\"edge\">\n<title>sample_0&#45;&gt;event_0</title>\n<path fill=\"none\" stroke=\"black\" d=\"M293.69,-451.15C288.74,-445.29 283.81,-439.08 279.5,-433 275.1,-426.8 270.8,-419.99 266.8,-413.24\"/>\n<polygon fill=\"black\" stroke=\"black\" points=\"269.96,-411.71 261.94,-404.78 263.89,-415.2 269.96,-411.71\"/>\n<text text-anchor=\"middle\" x=\"304.25\" y=\"-425.4\" font-family=\"JetBrains Mono\" font-size=\"8.00\">produced_by</text>\n</g>\n<!-- agent_1 -->\n<g id=\"node4\" class=\"node\">\n<title>agent_1</title>\n<polygon fill=\"none\" stroke=\"black\" points=\"497,-226 497,-290.5 615,-290.5 615,-226 497,-226\"/>\n<text text-anchor=\"middle\" x=\"556\" y=\"-277\" font-family=\"JetBrains Mono\" font-size=\"10.00\">agent_1</text>\n<polyline fill=\"none\" stroke=\"black\" points=\"497,-269 615,-269\"/>\n<text text-anchor=\"middle\" x=\"556\" y=\"-255.5\" font-family=\"JetBrains Mono\" font-size=\"10.00\">Agent</text>\n<polyline fill=\"none\" stroke=\"black\" points=\"497,-247.5 615,-247.5\"/>\n<text text-anchor=\"middle\" x=\"556\" y=\"-234\" font-family=\"JetBrains Mono\" font-size=\"10.00\">Christopher Adams</text>\n</g>\n<!-- event_0&#45;&gt;agent_1 -->\n<g id=\"edge2\" class=\"edge\">\n<title>event_0&#45;&gt;agent_1</title>\n<path fill=\"none\" stroke=\"black\" d=\"M292.47,-341.76C295.32,-340.49 298.17,-339.3 301,-338.25 339.23,-324.01 351.75,-331.36 391,-320.25 422.8,-311.25 457.2,-298.96 486.31,-287.77\"/>\n<polygon fill=\"black\" stroke=\"black\" points=\"487.32,-291.13 495.38,-284.25 484.79,-284.61 487.32,-291.13\"/>\n<text text-anchor=\"middle\" x=\"454.67\" y=\"-312.65\" font-family=\"JetBrains Mono\" font-size=\"8.00\">responsibility</text>\n</g>\n<!-- site_6 -->\n<g id=\"node5\" class=\"node\">\n<title>site_6</title>\n<polygon fill=\"none\" stroke=\"black\" points=\"197,-226 197,-290.5 285,-290.5 285,-226 197,-226\"/>\n<text text-anchor=\"middle\" x=\"241\" y=\"-277\" font-family=\"JetBrains Mono\" font-size=\"10.00\">site_6</text>\n<polyline fill=\"none\" stroke=\"black\" points=\"197,-269 285,-269\"/>\n<text text-anchor=\"middle\" x=\"241\" y=\"-255.5\" font-family=\"JetBrains Mono\" font-size=\"10.00\">SamplingSite</text>\n<polyline fill=\"none\" stroke=\"black\" points=\"197,-247.5 285,-247.5\"/>\n<text text-anchor=\"middle\" x=\"241\" y=\"-234\" font-family=\"JetBrains Mono\" font-size=\"10.00\">None</text>\n</g>\n<!-- event_0&#45;&gt;site_6 -->\n<g id=\"edge4\" class=\"edge\">\n<title>event_0&#45;&gt;site_6</title>\n<path fill=\"none\" stroke=\"black\" d=\"M243.85,-338.26C243.45,-327.03 242.98,-314.19 242.55,-302.18\"/>\n<polygon fill=\"black\" stroke=\"black\" points=\"246.06,-302.37 242.2,-292.5 239.06,-302.62 246.06,-302.37\"/>\n<text text-anchor=\"middle\" x=\"272.37\" y=\"-312.65\" font-family=\"JetBrains Mono\" font-size=\"8.00\">sampling_site</text>\n</g>\n<!-- geo_6 -->\n<g id=\"node6\" class=\"node\">\n<title>geo_6</title>\n<polygon fill=\"none\" stroke=\"black\" points=\"200,-113.25 200,-177.75 282,-177.75 282,-113.25 200,-113.25\"/>\n<text text-anchor=\"middle\" x=\"241\" y=\"-164.25\" font-family=\"JetBrains Mono\" font-size=\"10.00\">geo_6</text>\n<polyline fill=\"none\" stroke=\"black\" points=\"200,-156.25 282,-156.25\"/>\n<text text-anchor=\"middle\" x=\"241\" y=\"-142.75\" font-family=\"JetBrains Mono\" font-size=\"10.00\">GeoLocation</text>\n<polyline fill=\"none\" stroke=\"black\" points=\"200,-134.75 282,-134.75\"/>\n<text text-anchor=\"middle\" x=\"241\" y=\"-121.25\" font-family=\"JetBrains Mono\" font-size=\"10.00\">None</text>\n</g>\n<!-- site_6&#45;&gt;geo_6 -->\n<g id=\"edge3\" class=\"edge\">\n<title>site_6&#45;&gt;geo_6</title>\n<path fill=\"none\" stroke=\"black\" d=\"M241,-225.51C241,-214.28 241,-201.44 241,-189.43\"/>\n<polygon fill=\"black\" stroke=\"black\" points=\"244.5,-189.75 241,-179.75 237.5,-189.75 244.5,-189.75\"/>\n<text text-anchor=\"middle\" x=\"259\" y=\"-199.9\" font-family=\"JetBrains Mono\" font-size=\"8.00\">location</text>\n</g>\n<!-- sample_1 -->\n<g id=\"node7\" class=\"node\">\n<title>sample_1</title>\n<polygon fill=\"none\" stroke=\"black\" points=\"720,-451.5 720,-516 820,-516 820,-451.5 720,-451.5\"/>\n<text text-anchor=\"middle\" x=\"770\" y=\"-502.5\" font-family=\"JetBrains Mono\" font-size=\"10.00\">sample_1</text>\n<polyline fill=\"none\" stroke=\"black\" points=\"720,-494.5 820,-494.5\"/>\n<text text-anchor=\"middle\" x=\"770\" y=\"-481\" font-family=\"JetBrains Mono\" font-size=\"10.00\">MaterialSample</text>\n<polyline fill=\"none\" stroke=\"black\" points=\"720,-473 820,-473\"/>\n<text text-anchor=\"middle\" x=\"770\" y=\"-459.5\" font-family=\"JetBrains Mono\" font-size=\"10.00\">Fake Sample 1</text>\n</g>\n<!-- agent_8 -->\n<g id=\"node8\" class=\"node\">\n<title>agent_8</title>\n<polygon fill=\"none\" stroke=\"black\" points=\"768,-338.75 768,-403.25 844,-403.25 844,-338.75 768,-338.75\"/>\n<text text-anchor=\"middle\" x=\"806\" y=\"-389.75\" font-family=\"JetBrains Mono\" font-size=\"10.00\">agent_8</text>\n<polyline fill=\"none\" stroke=\"black\" points=\"768,-381.75 844,-381.75\"/>\n<text text-anchor=\"middle\" x=\"806\" y=\"-368.25\" font-family=\"JetBrains Mono\" font-size=\"10.00\">Agent</text>\n<polyline fill=\"none\" stroke=\"black\" points=\"768,-360.25 844,-360.25\"/>\n<text text-anchor=\"middle\" x=\"806\" y=\"-346.75\" font-family=\"JetBrains Mono\" font-size=\"10.00\">James Kemp</text>\n</g>\n<!-- sample_1&#45;&gt;agent_8 -->\n<g id=\"edge6\" class=\"edge\">\n<title>sample_1&#45;&gt;agent_8</title>\n<path fill=\"none\" stroke=\"black\" d=\"M780.32,-451.01C784.01,-439.66 788.23,-426.67 792.17,-414.56\"/>\n<polygon fill=\"black\" stroke=\"black\" points=\"795.45,-415.77 795.21,-405.18 788.79,-413.61 795.45,-415.77\"/>\n<text text-anchor=\"middle\" x=\"811.58\" y=\"-425.4\" font-family=\"JetBrains Mono\" font-size=\"8.00\">registrant</text>\n</g>\n<!-- event_1 -->\n<g id=\"node9\" class=\"node\">\n<title>event_1</title>\n<polygon fill=\"none\" stroke=\"black\" points=\"656,-338.75 656,-403.25 750,-403.25 750,-338.75 656,-338.75\"/>\n<text text-anchor=\"middle\" x=\"703\" y=\"-389.75\" font-family=\"JetBrains Mono\" font-size=\"10.00\">event_1</text>\n<polyline fill=\"none\" stroke=\"black\" points=\"656,-381.75 750,-381.75\"/>\n<text text-anchor=\"middle\" x=\"703\" y=\"-368.25\" font-family=\"JetBrains Mono\" font-size=\"10.00\">SamplingEvent</text>\n<polyline fill=\"none\" stroke=\"black\" points=\"656,-360.25 750,-360.25\"/>\n<text text-anchor=\"middle\" x=\"703\" y=\"-346.75\" font-family=\"JetBrains Mono\" font-size=\"10.00\">None</text>\n</g>\n<!-- sample_1&#45;&gt;event_1 -->\n<g id=\"edge10\" class=\"edge\">\n<title>sample_1&#45;&gt;event_1</title>\n<path fill=\"none\" stroke=\"black\" d=\"M745.62,-451.19C741.4,-445.26 737.19,-439.03 733.5,-433 729.77,-426.9 726.11,-420.28 722.68,-413.73\"/>\n<polygon fill=\"black\" stroke=\"black\" points=\"725.86,-412.26 718.21,-404.93 719.62,-415.43 725.86,-412.26\"/>\n<text text-anchor=\"middle\" x=\"758.25\" y=\"-425.4\" font-family=\"JetBrains Mono\" font-size=\"8.00\">produced_by</text>\n</g>\n<!-- event_1&#45;&gt;agent_1 -->\n<g id=\"edge7\" class=\"edge\">\n<title>event_1&#45;&gt;agent_1</title>\n<path fill=\"none\" stroke=\"black\" d=\"M660.88,-338.26C644.11,-325.64 624.67,-310.99 607.12,-297.76\"/>\n<polygon fill=\"black\" stroke=\"black\" points=\"609.43,-295.12 599.34,-291.9 605.22,-300.71 609.43,-295.12\"/>\n<text text-anchor=\"middle\" x=\"665.41\" y=\"-312.65\" font-family=\"JetBrains Mono\" font-size=\"8.00\">responsibility</text>\n</g>\n<!-- site_8 -->\n<g id=\"node10\" class=\"node\">\n<title>site_8</title>\n<polygon fill=\"none\" stroke=\"black\" points=\"787,-226 787,-290.5 875,-290.5 875,-226 787,-226\"/>\n<text text-anchor=\"middle\" x=\"831\" y=\"-277\" font-family=\"JetBrains Mono\" font-size=\"10.00\">site_8</text>\n<polyline fill=\"none\" stroke=\"black\" points=\"787,-269 875,-269\"/>\n<text text-anchor=\"middle\" x=\"831\" y=\"-255.5\" font-family=\"JetBrains Mono\" font-size=\"10.00\">SamplingSite</text>\n<polyline fill=\"none\" stroke=\"black\" points=\"787,-247.5 875,-247.5\"/>\n<text text-anchor=\"middle\" x=\"831\" y=\"-234\" font-family=\"JetBrains Mono\" font-size=\"10.00\">None</text>\n</g>\n<!-- event_1&#45;&gt;site_8 -->\n<g id=\"edge9\" class=\"edge\">\n<title>event_1&#45;&gt;site_8</title>\n<path fill=\"none\" stroke=\"black\" d=\"M750.3,-343.05C753.24,-341.42 756.16,-339.81 759,-338.25 773.99,-330.03 780.49,-331.91 793,-320.25 799.15,-314.52 804.69,-307.58 809.53,-300.46\"/>\n<polygon fill=\"black\" stroke=\"black\" points=\"812.47,-302.35 814.86,-292.03 806.55,-298.61 812.47,-302.35\"/>\n<text text-anchor=\"middle\" x=\"831.53\" y=\"-312.65\" font-family=\"JetBrains Mono\" font-size=\"8.00\">sampling_site</text>\n</g>\n<!-- geo_8 -->\n<g id=\"node11\" class=\"node\">\n<title>geo_8</title>\n<polygon fill=\"none\" stroke=\"black\" points=\"792,-113.25 792,-177.75 874,-177.75 874,-113.25 792,-113.25\"/>\n<text text-anchor=\"middle\" x=\"833\" y=\"-164.25\" font-family=\"JetBrains Mono\" font-size=\"10.00\">geo_8</text>\n<polyline fill=\"none\" stroke=\"black\" points=\"792,-156.25 874,-156.25\"/>\n<text text-anchor=\"middle\" x=\"833\" y=\"-142.75\" font-family=\"JetBrains Mono\" font-size=\"10.00\">GeoLocation</text>\n<polyline fill=\"none\" stroke=\"black\" points=\"792,-134.75 874,-134.75\"/>\n<text text-anchor=\"middle\" x=\"833\" y=\"-121.25\" font-family=\"JetBrains Mono\" font-size=\"10.00\">None</text>\n</g>\n<!-- site_8&#45;&gt;geo_8 -->\n<g id=\"edge8\" class=\"edge\">\n<title>site_8&#45;&gt;geo_8</title>\n<path fill=\"none\" stroke=\"black\" d=\"M831.57,-225.51C831.78,-214.28 832.01,-201.44 832.22,-189.43\"/>\n<polygon fill=\"black\" stroke=\"black\" points=\"835.72,-189.82 832.4,-179.75 828.72,-189.69 835.72,-189.82\"/>\n<text text-anchor=\"middle\" x=\"850.06\" y=\"-199.9\" font-family=\"JetBrains Mono\" font-size=\"8.00\">location</text>\n</g>\n<!-- sample_2 -->\n<g id=\"node12\" class=\"node\">\n<title>sample_2</title>\n<polygon fill=\"none\" stroke=\"black\" points=\"537,-338.75 537,-403.25 637,-403.25 637,-338.75 537,-338.75\"/>\n<text text-anchor=\"middle\" x=\"587\" y=\"-389.75\" font-family=\"JetBrains Mono\" font-size=\"10.00\">sample_2</text>\n<polyline fill=\"none\" stroke=\"black\" points=\"537,-381.75 637,-381.75\"/>\n<text text-anchor=\"middle\" x=\"587\" y=\"-368.25\" font-family=\"JetBrains Mono\" font-size=\"10.00\">MaterialSample</text>\n<polyline fill=\"none\" stroke=\"black\" points=\"537,-360.25 637,-360.25\"/>\n<text text-anchor=\"middle\" x=\"587\" y=\"-346.75\" font-family=\"JetBrains Mono\" font-size=\"10.00\">Fake Sample 2</text>\n</g>\n<!-- sample_2&#45;&gt;agent_1 -->\n<g id=\"edge11\" class=\"edge\">\n<title>sample_2&#45;&gt;agent_1</title>\n<path fill=\"none\" stroke=\"black\" d=\"M578.12,-338.26C574.94,-326.91 571.3,-313.92 567.91,-301.81\"/>\n<polygon fill=\"black\" stroke=\"black\" points=\"571.36,-301.14 565.29,-292.45 564.62,-303.02 571.36,-301.14\"/>\n<text text-anchor=\"middle\" x=\"594.93\" y=\"-312.65\" font-family=\"JetBrains Mono\" font-size=\"8.00\">registrant</text>\n</g>\n<!-- event_2 -->\n<g id=\"node13\" class=\"node\">\n<title>event_2</title>\n<polygon fill=\"none\" stroke=\"black\" points=\"674,-226 674,-290.5 768,-290.5 768,-226 674,-226\"/>\n<text text-anchor=\"middle\" x=\"721\" y=\"-277\" font-family=\"JetBrains Mono\" font-size=\"10.00\">event_2</text>\n<polyline fill=\"none\" stroke=\"black\" points=\"674,-269 768,-269\"/>\n<text text-anchor=\"middle\" x=\"721\" y=\"-255.5\" font-family=\"JetBrains Mono\" font-size=\"10.00\">SamplingEvent</text>\n<polyline fill=\"none\" stroke=\"black\" points=\"674,-247.5 768,-247.5\"/>\n<text text-anchor=\"middle\" x=\"721\" y=\"-234\" font-family=\"JetBrains Mono\" font-size=\"10.00\">None</text>\n</g>\n<!-- sample_2&#45;&gt;event_2 -->\n<g id=\"edge15\" class=\"edge\">\n<title>sample_2&#45;&gt;event_2</title>\n<path fill=\"none\" stroke=\"black\" d=\"M637.35,-342.29C640.58,-340.84 643.81,-339.48 647,-338.25 676.96,-326.66 696.5,-344.98 717,-320.25 721.3,-315.07 723.71,-308.71 724.91,-302.08\"/>\n<polygon fill=\"black\" stroke=\"black\" points=\"728.38,-302.59 725.77,-292.32 721.4,-301.97 728.38,-302.59\"/>\n<text text-anchor=\"middle\" x=\"747.35\" y=\"-312.65\" font-family=\"JetBrains Mono\" font-size=\"8.00\">produced_by</text>\n</g>\n<!-- agent_7 -->\n<g id=\"node14\" class=\"node\">\n<title>agent_7</title>\n<polygon fill=\"none\" stroke=\"black\" points=\"668,-113.25 668,-177.75 774,-177.75 774,-113.25 668,-113.25\"/>\n<text text-anchor=\"middle\" x=\"721\" y=\"-164.25\" font-family=\"JetBrains Mono\" font-size=\"10.00\">agent_7</text>\n<polyline fill=\"none\" stroke=\"black\" points=\"668,-156.25 774,-156.25\"/>\n<text text-anchor=\"middle\" x=\"721\" y=\"-142.75\" font-family=\"JetBrains Mono\" font-size=\"10.00\">Agent</text>\n<polyline fill=\"none\" stroke=\"black\" points=\"668,-134.75 774,-134.75\"/>\n<text text-anchor=\"middle\" x=\"721\" y=\"-121.25\" font-family=\"JetBrains Mono\" font-size=\"10.00\">Sandra Randolph</text>\n</g>\n<!-- event_2&#45;&gt;agent_7 -->\n<g id=\"edge12\" class=\"edge\">\n<title>event_2&#45;&gt;agent_7</title>\n<path fill=\"none\" stroke=\"black\" d=\"M721,-225.51C721,-214.28 721,-201.44 721,-189.43\"/>\n<polygon fill=\"black\" stroke=\"black\" points=\"724.5,-189.75 721,-179.75 717.5,-189.75 724.5,-189.75\"/>\n<text text-anchor=\"middle\" x=\"752.5\" y=\"-199.9\" font-family=\"JetBrains Mono\" font-size=\"8.00\">responsibility</text>\n</g>\n<!-- site_0 -->\n<g id=\"node15\" class=\"node\">\n<title>site_0</title>\n<polygon fill=\"none\" stroke=\"black\" points=\"562,-113.25 562,-177.75 650,-177.75 650,-113.25 562,-113.25\"/>\n<text text-anchor=\"middle\" x=\"606\" y=\"-164.25\" font-family=\"JetBrains Mono\" font-size=\"10.00\">site_0</text>\n<polyline fill=\"none\" stroke=\"black\" points=\"562,-156.25 650,-156.25\"/>\n<text text-anchor=\"middle\" x=\"606\" y=\"-142.75\" font-family=\"JetBrains Mono\" font-size=\"10.00\">SamplingSite</text>\n<polyline fill=\"none\" stroke=\"black\" points=\"562,-134.75 650,-134.75\"/>\n<text text-anchor=\"middle\" x=\"606\" y=\"-121.25\" font-family=\"JetBrains Mono\" font-size=\"10.00\">None</text>\n</g>\n<!-- event_2&#45;&gt;site_0 -->\n<g id=\"edge14\" class=\"edge\">\n<title>event_2&#45;&gt;site_0</title>\n<path fill=\"none\" stroke=\"black\" d=\"M679.06,-225.66C672,-219.84 664.9,-213.65 658.5,-207.5 651.77,-201.02 644.98,-193.77 638.61,-186.59\"/>\n<polygon fill=\"black\" stroke=\"black\" points=\"641.55,-184.64 632.35,-179.38 636.27,-189.23 641.55,-184.64\"/>\n<text text-anchor=\"middle\" x=\"687.75\" y=\"-199.9\" font-family=\"JetBrains Mono\" font-size=\"8.00\">sampling_site</text>\n</g>\n<!-- geo_0 -->\n<g id=\"node16\" class=\"node\">\n<title>geo_0</title>\n<polygon fill=\"none\" stroke=\"black\" points=\"565,-0.5 565,-65 647,-65 647,-0.5 565,-0.5\"/>\n<text text-anchor=\"middle\" x=\"606\" y=\"-51.5\" font-family=\"JetBrains Mono\" font-size=\"10.00\">geo_0</text>\n<polyline fill=\"none\" stroke=\"black\" points=\"565,-43.5 647,-43.5\"/>\n<text text-anchor=\"middle\" x=\"606\" y=\"-30\" font-family=\"JetBrains Mono\" font-size=\"10.00\">GeoLocation</text>\n<polyline fill=\"none\" stroke=\"black\" points=\"565,-22 647,-22\"/>\n<text text-anchor=\"middle\" x=\"606\" y=\"-8.5\" font-family=\"JetBrains Mono\" font-size=\"10.00\">None</text>\n</g>\n<!-- site_0&#45;&gt;geo_0 -->\n<g id=\"edge13\" class=\"edge\">\n<title>site_0&#45;&gt;geo_0</title>\n<path fill=\"none\" stroke=\"black\" d=\"M606,-112.76C606,-101.53 606,-88.69 606,-76.68\"/>\n<polygon fill=\"black\" stroke=\"black\" points=\"609.5,-77 606,-67 602.5,-77 609.5,-77\"/>\n<text text-anchor=\"middle\" x=\"624\" y=\"-87.15\" font-family=\"JetBrains Mono\" font-size=\"8.00\">location</text>\n</g>\n<!-- sample_3 -->\n<g id=\"node17\" class=\"node\">\n<title>sample_3</title>\n<polygon fill=\"none\" stroke=\"black\" points=\"969,-451.5 969,-516 1069,-516 1069,-451.5 969,-451.5\"/>\n<text text-anchor=\"middle\" x=\"1019\" y=\"-502.5\" font-family=\"JetBrains Mono\" font-size=\"10.00\">sample_3</text>\n<polyline fill=\"none\" stroke=\"black\" points=\"969,-494.5 1069,-494.5\"/>\n<text text-anchor=\"middle\" x=\"1019\" y=\"-481\" font-family=\"JetBrains Mono\" font-size=\"10.00\">MaterialSample</text>\n<polyline fill=\"none\" stroke=\"black\" points=\"969,-473 1069,-473\"/>\n<text text-anchor=\"middle\" x=\"1019\" y=\"-459.5\" font-family=\"JetBrains Mono\" font-size=\"10.00\">Fake Sample 3</text>\n</g>\n<!-- agent_4 -->\n<g id=\"node18\" class=\"node\">\n<title>agent_4</title>\n<polygon fill=\"none\" stroke=\"black\" points=\"893,-226 893,-290.5 981,-290.5 981,-226 893,-226\"/>\n<text text-anchor=\"middle\" x=\"937\" y=\"-277\" font-family=\"JetBrains Mono\" font-size=\"10.00\">agent_4</text>\n<polyline fill=\"none\" stroke=\"black\" points=\"893,-269 981,-269\"/>\n<text text-anchor=\"middle\" x=\"937\" y=\"-255.5\" font-family=\"JetBrains Mono\" font-size=\"10.00\">Agent</text>\n<polyline fill=\"none\" stroke=\"black\" points=\"893,-247.5 981,-247.5\"/>\n<text text-anchor=\"middle\" x=\"937\" y=\"-234\" font-family=\"JetBrains Mono\" font-size=\"10.00\">Deanna Evans</text>\n</g>\n<!-- sample_3&#45;&gt;agent_4 -->\n<g id=\"edge16\" class=\"edge\">\n<title>sample_3&#45;&gt;agent_4</title>\n<path fill=\"none\" stroke=\"black\" d=\"M975.45,-451.27C961.09,-438.33 946.8,-422.07 939,-403.75 925.33,-371.66 925.92,-331.8 929.31,-302.08\"/>\n<polygon fill=\"black\" stroke=\"black\" points=\"932.76,-302.69 930.59,-292.32 925.82,-301.78 932.76,-302.69\"/>\n<text text-anchor=\"middle\" x=\"961.5\" y=\"-369.02\" font-family=\"JetBrains Mono\" font-size=\"8.00\">registrant</text>\n</g>\n<!-- event_3 -->\n<g id=\"node19\" class=\"node\">\n<title>event_3</title>\n<polygon fill=\"none\" stroke=\"black\" points=\"993,-338.75 993,-403.25 1087,-403.25 1087,-338.75 993,-338.75\"/>\n<text text-anchor=\"middle\" x=\"1040\" y=\"-389.75\" font-family=\"JetBrains Mono\" font-size=\"10.00\">event_3</text>\n<polyline fill=\"none\" stroke=\"black\" points=\"993,-381.75 1087,-381.75\"/>\n<text text-anchor=\"middle\" x=\"1040\" y=\"-368.25\" font-family=\"JetBrains Mono\" font-size=\"10.00\">SamplingEvent</text>\n<polyline fill=\"none\" stroke=\"black\" points=\"993,-360.25 1087,-360.25\"/>\n<text text-anchor=\"middle\" x=\"1040\" y=\"-346.75\" font-family=\"JetBrains Mono\" font-size=\"10.00\">None</text>\n</g>\n<!-- sample_3&#45;&gt;event_3 -->\n<g id=\"edge20\" class=\"edge\">\n<title>sample_3&#45;&gt;event_3</title>\n<path fill=\"none\" stroke=\"black\" d=\"M1025.02,-451.01C1027.15,-439.78 1029.58,-426.94 1031.86,-414.93\"/>\n<polygon fill=\"black\" stroke=\"black\" points=\"1035.28,-415.71 1033.7,-405.23 1028.4,-414.4 1035.28,-415.71\"/>\n<text text-anchor=\"middle\" x=\"1054.88\" y=\"-425.4\" font-family=\"JetBrains Mono\" font-size=\"8.00\">produced_by</text>\n</g>\n<!-- event_3&#45;&gt;agent_4 -->\n<g id=\"edge17\" class=\"edge\">\n<title>event_3&#45;&gt;agent_4</title>\n<path fill=\"none\" stroke=\"black\" d=\"M996.02,-338.29C989.32,-332.63 982.74,-326.52 977,-320.25 971.41,-314.15 966.08,-307.19 961.22,-300.21\"/>\n<polygon fill=\"black\" stroke=\"black\" points=\"964.22,-298.4 955.76,-292.01 958.39,-302.28 964.22,-298.4\"/>\n<text text-anchor=\"middle\" x=\"1008.5\" y=\"-312.65\" font-family=\"JetBrains Mono\" font-size=\"8.00\">responsibility</text>\n</g>\n<!-- site_9 -->\n<g id=\"node20\" class=\"node\">\n<title>site_9</title>\n<polygon fill=\"none\" stroke=\"black\" points=\"1005,-226 1005,-290.5 1093,-290.5 1093,-226 1005,-226\"/>\n<text text-anchor=\"middle\" x=\"1049\" y=\"-277\" font-family=\"JetBrains Mono\" font-size=\"10.00\">site_9</text>\n<polyline fill=\"none\" stroke=\"black\" points=\"1005,-269 1093,-269\"/>\n<text text-anchor=\"middle\" x=\"1049\" y=\"-255.5\" font-family=\"JetBrains Mono\" font-size=\"10.00\">SamplingSite</text>\n<polyline fill=\"none\" stroke=\"black\" points=\"1005,-247.5 1093,-247.5\"/>\n<text text-anchor=\"middle\" x=\"1049\" y=\"-234\" font-family=\"JetBrains Mono\" font-size=\"10.00\">None</text>\n</g>\n<!-- event_3&#45;&gt;site_9 -->\n<g id=\"edge19\" class=\"edge\">\n<title>event_3&#45;&gt;site_9</title>\n<path fill=\"none\" stroke=\"black\" d=\"M1042.58,-338.26C1043.49,-327.03 1044.54,-314.19 1045.51,-302.18\"/>\n<polygon fill=\"black\" stroke=\"black\" points=\"1048.98,-302.75 1046.3,-292.5 1042,-302.18 1048.98,-302.75\"/>\n<text text-anchor=\"middle\" x=\"1074.02\" y=\"-312.65\" font-family=\"JetBrains Mono\" font-size=\"8.00\">sampling_site</text>\n</g>\n<!-- geo_9 -->\n<g id=\"node21\" class=\"node\">\n<title>geo_9</title>\n<polygon fill=\"none\" stroke=\"black\" points=\"1008,-113.25 1008,-177.75 1090,-177.75 1090,-113.25 1008,-113.25\"/>\n<text text-anchor=\"middle\" x=\"1049\" y=\"-164.25\" font-family=\"JetBrains Mono\" font-size=\"10.00\">geo_9</text>\n<polyline fill=\"none\" stroke=\"black\" points=\"1008,-156.25 1090,-156.25\"/>\n<text text-anchor=\"middle\" x=\"1049\" y=\"-142.75\" font-family=\"JetBrains Mono\" font-size=\"10.00\">GeoLocation</text>\n<polyline fill=\"none\" stroke=\"black\" points=\"1008,-134.75 1090,-134.75\"/>\n<text text-anchor=\"middle\" x=\"1049\" y=\"-121.25\" font-family=\"JetBrains Mono\" font-size=\"10.00\">None</text>\n</g>\n<!-- site_9&#45;&gt;geo_9 -->\n<g id=\"edge18\" class=\"edge\">\n<title>site_9&#45;&gt;geo_9</title>\n<path fill=\"none\" stroke=\"black\" d=\"M1049,-225.51C1049,-214.28 1049,-201.44 1049,-189.43\"/>\n<polygon fill=\"black\" stroke=\"black\" points=\"1052.5,-189.75 1049,-179.75 1045.5,-189.75 1052.5,-189.75\"/>\n<text text-anchor=\"middle\" x=\"1067\" y=\"-199.9\" font-family=\"JetBrains Mono\" font-size=\"8.00\">location</text>\n</g>\n<!-- sample_4 -->\n<g id=\"node22\" class=\"node\">\n<title>sample_4</title>\n<polygon fill=\"none\" stroke=\"black\" points=\"1129,-451.5 1129,-516 1229,-516 1229,-451.5 1129,-451.5\"/>\n<text text-anchor=\"middle\" x=\"1179\" y=\"-502.5\" font-family=\"JetBrains Mono\" font-size=\"10.00\">sample_4</text>\n<polyline fill=\"none\" stroke=\"black\" points=\"1129,-494.5 1229,-494.5\"/>\n<text text-anchor=\"middle\" x=\"1179\" y=\"-481\" font-family=\"JetBrains Mono\" font-size=\"10.00\">MaterialSample</text>\n<polyline fill=\"none\" stroke=\"black\" points=\"1129,-473 1229,-473\"/>\n<text text-anchor=\"middle\" x=\"1179\" y=\"-459.5\" font-family=\"JetBrains Mono\" font-size=\"10.00\">Fake Sample 4</text>\n</g>\n<!-- agent_3 -->\n<g id=\"node23\" class=\"node\">\n<title>agent_3</title>\n<polygon fill=\"none\" stroke=\"black\" points=\"1137,-226 1137,-290.5 1219,-290.5 1219,-226 1137,-226\"/>\n<text text-anchor=\"middle\" x=\"1178\" y=\"-277\" font-family=\"JetBrains Mono\" font-size=\"10.00\">agent_3</text>\n<polyline fill=\"none\" stroke=\"black\" points=\"1137,-269 1219,-269\"/>\n<text text-anchor=\"middle\" x=\"1178\" y=\"-255.5\" font-family=\"JetBrains Mono\" font-size=\"10.00\">Agent</text>\n<polyline fill=\"none\" stroke=\"black\" points=\"1137,-247.5 1219,-247.5\"/>\n<text text-anchor=\"middle\" x=\"1178\" y=\"-234\" font-family=\"JetBrains Mono\" font-size=\"10.00\">Luke Taylor</text>\n</g>\n<!-- sample_4&#45;&gt;agent_3 -->\n<g id=\"edge21\" class=\"edge\">\n<title>sample_4&#45;&gt;agent_3</title>\n<path fill=\"none\" stroke=\"black\" d=\"M1178.86,-451.2C1178.68,-412.29 1178.39,-345.97 1178.19,-302.38\"/>\n<polygon fill=\"black\" stroke=\"black\" points=\"1181.69,-302.5 1178.15,-292.51 1174.69,-302.53 1181.69,-302.5\"/>\n<text text-anchor=\"middle\" x=\"1201.13\" y=\"-369.02\" font-family=\"JetBrains Mono\" font-size=\"8.00\">registrant</text>\n</g>\n<!-- event_4 -->\n<g id=\"node24\" class=\"node\">\n<title>event_4</title>\n<polygon fill=\"none\" stroke=\"black\" points=\"1233,-338.75 1233,-403.25 1327,-403.25 1327,-338.75 1233,-338.75\"/>\n<text text-anchor=\"middle\" x=\"1280\" y=\"-389.75\" font-family=\"JetBrains Mono\" font-size=\"10.00\">event_4</text>\n<polyline fill=\"none\" stroke=\"black\" points=\"1233,-381.75 1327,-381.75\"/>\n<text text-anchor=\"middle\" x=\"1280\" y=\"-368.25\" font-family=\"JetBrains Mono\" font-size=\"10.00\">SamplingEvent</text>\n<polyline fill=\"none\" stroke=\"black\" points=\"1233,-360.25 1327,-360.25\"/>\n<text text-anchor=\"middle\" x=\"1280\" y=\"-346.75\" font-family=\"JetBrains Mono\" font-size=\"10.00\">None</text>\n</g>\n<!-- sample_4&#45;&gt;event_4 -->\n<g id=\"edge25\" class=\"edge\">\n<title>sample_4&#45;&gt;event_4</title>\n<path fill=\"none\" stroke=\"black\" d=\"M1207.94,-451.01C1219.04,-438.85 1231.84,-424.81 1243.55,-411.97\"/>\n<polygon fill=\"black\" stroke=\"black\" points=\"1245.88,-414.61 1250.03,-404.86 1240.71,-409.89 1245.88,-414.61\"/>\n<text text-anchor=\"middle\" x=\"1257.28\" y=\"-425.4\" font-family=\"JetBrains Mono\" font-size=\"8.00\">produced_by</text>\n</g>\n<!-- event_4&#45;&gt;agent_3 -->\n<g id=\"edge22\" class=\"edge\">\n<title>event_4&#45;&gt;agent_3</title>\n<path fill=\"none\" stroke=\"black\" d=\"M1235.96,-338.35C1229.27,-332.68 1222.7,-326.55 1217,-320.25 1211.49,-314.16 1206.25,-307.21 1201.51,-300.23\"/>\n<polygon fill=\"black\" stroke=\"black\" points=\"1204.57,-298.53 1196.19,-292.05 1198.7,-302.34 1204.57,-298.53\"/>\n<text text-anchor=\"middle\" x=\"1248.5\" y=\"-312.65\" font-family=\"JetBrains Mono\" font-size=\"8.00\">responsibility</text>\n</g>\n<!-- site_7 -->\n<g id=\"node25\" class=\"node\">\n<title>site_7</title>\n<polygon fill=\"none\" stroke=\"black\" points=\"1245,-226 1245,-290.5 1333,-290.5 1333,-226 1245,-226\"/>\n<text text-anchor=\"middle\" x=\"1289\" y=\"-277\" font-family=\"JetBrains Mono\" font-size=\"10.00\">site_7</text>\n<polyline fill=\"none\" stroke=\"black\" points=\"1245,-269 1333,-269\"/>\n<text text-anchor=\"middle\" x=\"1289\" y=\"-255.5\" font-family=\"JetBrains Mono\" font-size=\"10.00\">SamplingSite</text>\n<polyline fill=\"none\" stroke=\"black\" points=\"1245,-247.5 1333,-247.5\"/>\n<text text-anchor=\"middle\" x=\"1289\" y=\"-234\" font-family=\"JetBrains Mono\" font-size=\"10.00\">None</text>\n</g>\n<!-- event_4&#45;&gt;site_7 -->\n<g id=\"edge24\" class=\"edge\">\n<title>event_4&#45;&gt;site_7</title>\n<path fill=\"none\" stroke=\"black\" d=\"M1282.58,-338.26C1283.49,-327.03 1284.54,-314.19 1285.51,-302.18\"/>\n<polygon fill=\"black\" stroke=\"black\" points=\"1288.98,-302.75 1286.3,-292.5 1282,-302.18 1288.98,-302.75\"/>\n<text text-anchor=\"middle\" x=\"1314.02\" y=\"-312.65\" font-family=\"JetBrains Mono\" font-size=\"8.00\">sampling_site</text>\n</g>\n<!-- geo_7 -->\n<g id=\"node26\" class=\"node\">\n<title>geo_7</title>\n<polygon fill=\"none\" stroke=\"black\" points=\"1248,-113.25 1248,-177.75 1330,-177.75 1330,-113.25 1248,-113.25\"/>\n<text text-anchor=\"middle\" x=\"1289\" y=\"-164.25\" font-family=\"JetBrains Mono\" font-size=\"10.00\">geo_7</text>\n<polyline fill=\"none\" stroke=\"black\" points=\"1248,-156.25 1330,-156.25\"/>\n<text text-anchor=\"middle\" x=\"1289\" y=\"-142.75\" font-family=\"JetBrains Mono\" font-size=\"10.00\">GeoLocation</text>\n<polyline fill=\"none\" stroke=\"black\" points=\"1248,-134.75 1330,-134.75\"/>\n<text text-anchor=\"middle\" x=\"1289\" y=\"-121.25\" font-family=\"JetBrains Mono\" font-size=\"10.00\">None</text>\n</g>\n<!-- site_7&#45;&gt;geo_7 -->\n<g id=\"edge23\" class=\"edge\">\n<title>site_7&#45;&gt;geo_7</title>\n<path fill=\"none\" stroke=\"black\" d=\"M1289,-225.51C1289,-214.28 1289,-201.44 1289,-189.43\"/>\n<polygon fill=\"black\" stroke=\"black\" points=\"1292.5,-189.75 1289,-179.75 1285.5,-189.75 1292.5,-189.75\"/>\n<text text-anchor=\"middle\" x=\"1307\" y=\"-199.9\" font-family=\"JetBrains Mono\" font-size=\"8.00\">location</text>\n</g>\n<!-- ms01 -->\n<g id=\"node27\" class=\"node\">\n<title>ms01</title>\n<polygon fill=\"none\" stroke=\"red\" points=\"107,-451.5 107,-516 207,-516 207,-451.5 107,-451.5\"/>\n<text text-anchor=\"middle\" x=\"157\" y=\"-502.5\" font-family=\"JetBrains Mono\" font-size=\"10.00\">ms01</text>\n<polyline fill=\"none\" stroke=\"red\" points=\"107,-494.5 207,-494.5\"/>\n<text text-anchor=\"middle\" x=\"157\" y=\"-481\" font-family=\"JetBrains Mono\" font-size=\"10.00\">MaterialSample</text>\n<polyline fill=\"none\" stroke=\"red\" points=\"107,-473 207,-473\"/>\n<text text-anchor=\"middle\" x=\"157\" y=\"-459.5\" font-family=\"JetBrains Mono\" font-size=\"10.00\">MS 01</text>\n</g>\n<!-- ms01&#45;&gt;agent_0 -->\n<g id=\"edge26\" class=\"edge\">\n<title>ms01&#45;&gt;agent_0</title>\n<path fill=\"none\" stroke=\"black\" d=\"M184.64,-451.16C195.6,-440.38 208.93,-429.19 223,-421.75 251.63,-406.61 265.57,-415.49 299.04,-403.85\"/>\n<polygon fill=\"black\" stroke=\"black\" points=\"300.09,-407.2 308.14,-400.31 297.55,-400.67 300.09,-407.2\"/>\n<text text-anchor=\"middle\" x=\"245.5\" y=\"-425.4\" font-family=\"JetBrains Mono\" font-size=\"8.00\">registrant</text>\n</g>\n<!-- event_01 -->\n<g id=\"node28\" class=\"node\">\n<title>event_01</title>\n<polygon fill=\"none\" stroke=\"red\" points=\"73,-338.75 73,-403.25 167,-403.25 167,-338.75 73,-338.75\"/>\n<text text-anchor=\"middle\" x=\"120\" y=\"-389.75\" font-family=\"JetBrains Mono\" font-size=\"10.00\">event_01</text>\n<polyline fill=\"none\" stroke=\"red\" points=\"73,-381.75 167,-381.75\"/>\n<text text-anchor=\"middle\" x=\"120\" y=\"-368.25\" font-family=\"JetBrains Mono\" font-size=\"10.00\">SamplingEvent</text>\n<polyline fill=\"none\" stroke=\"red\" points=\"73,-360.25 167,-360.25\"/>\n<text text-anchor=\"middle\" x=\"120\" y=\"-346.75\" font-family=\"JetBrains Mono\" font-size=\"10.00\">None</text>\n</g>\n<!-- ms01&#45;&gt;event_01 -->\n<g id=\"edge30\" class=\"edge\">\n<title>ms01&#45;&gt;event_01</title>\n<path fill=\"none\" stroke=\"black\" d=\"M130.33,-451.09C126.74,-445.38 123.58,-439.24 121.5,-433 119.57,-427.22 118.43,-420.96 117.83,-414.73\"/>\n<polygon fill=\"black\" stroke=\"black\" points=\"121.35,-414.96 117.34,-405.16 114.35,-415.32 121.35,-414.96\"/>\n<text text-anchor=\"middle\" x=\"146.25\" y=\"-425.4\" font-family=\"JetBrains Mono\" font-size=\"8.00\">produced_by</text>\n</g>\n<!-- agent_5 -->\n<g id=\"node29\" class=\"node\">\n<title>agent_5</title>\n<polygon fill=\"none\" stroke=\"red\" points=\"0,-226 0,-290.5 70,-290.5 70,-226 0,-226\"/>\n<text text-anchor=\"middle\" x=\"35\" y=\"-277\" font-family=\"JetBrains Mono\" font-size=\"10.00\">agent_5</text>\n<polyline fill=\"none\" stroke=\"red\" points=\"0,-269 70,-269\"/>\n<text text-anchor=\"middle\" x=\"35\" y=\"-255.5\" font-family=\"JetBrains Mono\" font-size=\"10.00\">Agent</text>\n<polyline fill=\"none\" stroke=\"red\" points=\"0,-247.5 70,-247.5\"/>\n<text text-anchor=\"middle\" x=\"35\" y=\"-234\" font-family=\"JetBrains Mono\" font-size=\"10.00\">Tom Chase</text>\n</g>\n<!-- event_01&#45;&gt;agent_5 -->\n<g id=\"edge27\" class=\"edge\">\n<title>event_01&#45;&gt;agent_5</title>\n<path fill=\"none\" stroke=\"black\" d=\"M75.67,-338.53C69.56,-332.91 63.75,-326.76 59,-320.25 54.82,-314.52 51.25,-307.96 48.24,-301.32\"/>\n<polygon fill=\"black\" stroke=\"black\" points=\"51.58,-300.25 44.55,-292.32 45.11,-302.9 51.58,-300.25\"/>\n<text text-anchor=\"middle\" x=\"90.5\" y=\"-312.65\" font-family=\"JetBrains Mono\" font-size=\"8.00\">responsibility</text>\n</g>\n<!-- site_01 -->\n<g id=\"node30\" class=\"node\">\n<title>site_01</title>\n<polygon fill=\"none\" stroke=\"red\" points=\"88,-226 88,-290.5 176,-290.5 176,-226 88,-226\"/>\n<text text-anchor=\"middle\" x=\"132\" y=\"-277\" font-family=\"JetBrains Mono\" font-size=\"10.00\">site_01</text>\n<polyline fill=\"none\" stroke=\"red\" points=\"88,-269 176,-269\"/>\n<text text-anchor=\"middle\" x=\"132\" y=\"-255.5\" font-family=\"JetBrains Mono\" font-size=\"10.00\">SamplingSite</text>\n<polyline fill=\"none\" stroke=\"red\" points=\"88,-247.5 176,-247.5\"/>\n<text text-anchor=\"middle\" x=\"132\" y=\"-234\" font-family=\"JetBrains Mono\" font-size=\"10.00\">None</text>\n</g>\n<!-- event_01&#45;&gt;site_01 -->\n<g id=\"edge29\" class=\"edge\">\n<title>event_01&#45;&gt;site_01</title>\n<path fill=\"none\" stroke=\"black\" d=\"M123.44,-338.26C124.66,-327.03 126.05,-314.19 127.35,-302.18\"/>\n<polygon fill=\"black\" stroke=\"black\" points=\"130.8,-302.81 128.4,-292.5 123.84,-302.06 130.8,-302.81\"/>\n<text text-anchor=\"middle\" x=\"155.61\" y=\"-312.65\" font-family=\"JetBrains Mono\" font-size=\"8.00\">sampling_site</text>\n</g>\n<!-- geo_01 -->\n<g id=\"node31\" class=\"node\">\n<title>geo_01</title>\n<polygon fill=\"none\" stroke=\"red\" points=\"91,-113.25 91,-177.75 173,-177.75 173,-113.25 91,-113.25\"/>\n<text text-anchor=\"middle\" x=\"132\" y=\"-164.25\" font-family=\"JetBrains Mono\" font-size=\"10.00\">geo_01</text>\n<polyline fill=\"none\" stroke=\"red\" points=\"91,-156.25 173,-156.25\"/>\n<text text-anchor=\"middle\" x=\"132\" y=\"-142.75\" font-family=\"JetBrains Mono\" font-size=\"10.00\">GeoLocation</text>\n<polyline fill=\"none\" stroke=\"red\" points=\"91,-134.75 173,-134.75\"/>\n<text text-anchor=\"middle\" x=\"132\" y=\"-121.25\" font-family=\"JetBrains Mono\" font-size=\"10.00\">None</text>\n</g>\n<!-- site_01&#45;&gt;geo_01 -->\n<g id=\"edge28\" class=\"edge\">\n<title>site_01&#45;&gt;geo_01</title>\n<path fill=\"none\" stroke=\"black\" d=\"M132,-225.51C132,-214.28 132,-201.44 132,-189.43\"/>\n<polygon fill=\"black\" stroke=\"black\" points=\"135.5,-189.75 132,-179.75 128.5,-189.75 135.5,-189.75\"/>\n<text text-anchor=\"middle\" x=\"150\" y=\"-199.9\" font-family=\"JetBrains Mono\" font-size=\"8.00\">location</text>\n</g>\n<!-- ms02 -->\n<g id=\"node32\" class=\"node\">\n<title>ms02</title>\n<polygon fill=\"none\" stroke=\"black\" points=\"406,-451.5 406,-516 506,-516 506,-451.5 406,-451.5\"/>\n<text text-anchor=\"middle\" x=\"456\" y=\"-502.5\" font-family=\"JetBrains Mono\" font-size=\"10.00\">ms02</text>\n<polyline fill=\"none\" stroke=\"black\" points=\"406,-494.5 506,-494.5\"/>\n<text text-anchor=\"middle\" x=\"456\" y=\"-481\" font-family=\"JetBrains Mono\" font-size=\"10.00\">MaterialSample</text>\n<polyline fill=\"none\" stroke=\"black\" points=\"406,-473 506,-473\"/>\n<text text-anchor=\"middle\" x=\"456\" y=\"-459.5\" font-family=\"JetBrains Mono\" font-size=\"10.00\">MS 02</text>\n</g>\n<!-- ms02&#45;&gt;agent_0 -->\n<g id=\"edge31\" class=\"edge\">\n<title>ms02&#45;&gt;agent_0</title>\n<path fill=\"none\" stroke=\"black\" d=\"M425.91,-451.01C414.38,-438.85 401.07,-424.81 388.9,-411.97\"/>\n<polygon fill=\"black\" stroke=\"black\" points=\"391.55,-409.69 382.13,-404.84 386.47,-414.5 391.55,-409.69\"/>\n<text text-anchor=\"middle\" x=\"429.15\" y=\"-425.4\" font-family=\"JetBrains Mono\" font-size=\"8.00\">registrant</text>\n</g>\n<!-- event_02 -->\n<g id=\"node33\" class=\"node\">\n<title>event_02</title>\n<polygon fill=\"none\" stroke=\"black\" points=\"423,-338.75 423,-403.25 517,-403.25 517,-338.75 423,-338.75\"/>\n<text text-anchor=\"middle\" x=\"470\" y=\"-389.75\" font-family=\"JetBrains Mono\" font-size=\"10.00\">event_02</text>\n<polyline fill=\"none\" stroke=\"black\" points=\"423,-381.75 517,-381.75\"/>\n<text text-anchor=\"middle\" x=\"470\" y=\"-368.25\" font-family=\"JetBrains Mono\" font-size=\"10.00\">SamplingEvent</text>\n<polyline fill=\"none\" stroke=\"black\" points=\"423,-360.25 517,-360.25\"/>\n<text text-anchor=\"middle\" x=\"470\" y=\"-346.75\" font-family=\"JetBrains Mono\" font-size=\"10.00\">None</text>\n</g>\n<!-- ms02&#45;&gt;event_02 -->\n<g id=\"edge35\" class=\"edge\">\n<title>ms02&#45;&gt;event_02</title>\n<path fill=\"none\" stroke=\"black\" d=\"M460.01,-451.01C461.43,-439.78 463.06,-426.94 464.57,-414.93\"/>\n<polygon fill=\"black\" stroke=\"black\" points=\"468.02,-415.6 465.8,-405.24 461.07,-414.72 468.02,-415.6\"/>\n<text text-anchor=\"middle\" x=\"488.17\" y=\"-425.4\" font-family=\"JetBrains Mono\" font-size=\"8.00\">produced_by</text>\n</g>\n<!-- event_02&#45;&gt;agent_1 -->\n<g id=\"edge32\" class=\"edge\">\n<title>event_02&#45;&gt;agent_1</title>\n<path fill=\"none\" stroke=\"black\" d=\"M485.24,-338.47C490.6,-328.64 497.03,-318.02 504,-309 506.56,-305.69 509.33,-302.4 512.23,-299.17\"/>\n<polygon fill=\"black\" stroke=\"black\" points=\"514.75,-301.6 519.07,-291.93 509.66,-296.8 514.75,-301.6\"/>\n<text text-anchor=\"middle\" x=\"535.5\" y=\"-312.65\" font-family=\"JetBrains Mono\" font-size=\"8.00\">responsibility</text>\n</g>\n<!-- site_02 -->\n<g id=\"node34\" class=\"node\">\n<title>site_02</title>\n<polygon fill=\"none\" stroke=\"black\" points=\"303,-226 303,-290.5 391,-290.5 391,-226 303,-226\"/>\n<text text-anchor=\"middle\" x=\"347\" y=\"-277\" font-family=\"JetBrains Mono\" font-size=\"10.00\">site_02</text>\n<polyline fill=\"none\" stroke=\"black\" points=\"303,-269 391,-269\"/>\n<text text-anchor=\"middle\" x=\"347\" y=\"-255.5\" font-family=\"JetBrains Mono\" font-size=\"10.00\">SamplingSite</text>\n<polyline fill=\"none\" stroke=\"black\" points=\"303,-247.5 391,-247.5\"/>\n<text text-anchor=\"middle\" x=\"347\" y=\"-234\" font-family=\"JetBrains Mono\" font-size=\"10.00\">None</text>\n</g>\n<!-- event_02&#45;&gt;site_02 -->\n<g id=\"edge34\" class=\"edge\">\n<title>event_02&#45;&gt;site_02</title>\n<path fill=\"none\" stroke=\"black\" d=\"M422.57,-346.87C415.42,-343.77 408.08,-340.79 401,-338.25 371.37,-327.63 351.72,-345.18 332.5,-320.25 328.37,-314.89 327.1,-308.54 327.54,-302\"/>\n<polygon fill=\"black\" stroke=\"black\" points=\"330.93,-302.91 329.42,-292.42 324.06,-301.56 330.93,-302.91\"/>\n<text text-anchor=\"middle\" x=\"361.75\" y=\"-312.65\" font-family=\"JetBrains Mono\" font-size=\"8.00\">sampling_site</text>\n</g>\n<!-- geo_02 -->\n<g id=\"node35\" class=\"node\">\n<title>geo_02</title>\n<polygon fill=\"none\" stroke=\"black\" points=\"306,-113.25 306,-177.75 388,-177.75 388,-113.25 306,-113.25\"/>\n<text text-anchor=\"middle\" x=\"347\" y=\"-164.25\" font-family=\"JetBrains Mono\" font-size=\"10.00\">geo_02</text>\n<polyline fill=\"none\" stroke=\"black\" points=\"306,-156.25 388,-156.25\"/>\n<text text-anchor=\"middle\" x=\"347\" y=\"-142.75\" font-family=\"JetBrains Mono\" font-size=\"10.00\">GeoLocation</text>\n<polyline fill=\"none\" stroke=\"black\" points=\"306,-134.75 388,-134.75\"/>\n<text text-anchor=\"middle\" x=\"347\" y=\"-121.25\" font-family=\"JetBrains Mono\" font-size=\"10.00\">None</text>\n</g>\n<!-- site_02&#45;&gt;geo_02 -->\n<g id=\"edge33\" class=\"edge\">\n<title>site_02&#45;&gt;geo_02</title>\n<path fill=\"none\" stroke=\"black\" d=\"M347,-225.51C347,-214.28 347,-201.44 347,-189.43\"/>\n<polygon fill=\"black\" stroke=\"black\" points=\"350.5,-189.75 347,-179.75 343.5,-189.75 350.5,-189.75\"/>\n<text text-anchor=\"middle\" x=\"365\" y=\"-199.9\" font-family=\"JetBrains Mono\" font-size=\"8.00\">location</text>\n</g>\n</g>\n</svg>\n",
      "text/plain": [
       "<graphviz.sources.Source at 0x10ebefc50>"
      ]
     },
     "metadata": {},
     "output_type": "display_data"
    }
   ],
   "execution_count": 6
  },
  {
   "cell_type": "code",
   "id": "c40fb3c780bec77c",
   "metadata": {
    "ExecuteTime": {
     "end_time": "2025-02-18T04:28:41.826749Z",
     "start_time": "2025-02-18T04:28:41.800908Z"
    }
   },
   "source": [
    "def getEntityFor(ggraph, o:str):\n",
    "    \"\"\"Given subject, return the list of edges that directly or indirectly refer to it\n",
    "    for any degrees of separation.\n",
    "    \"\"\"\n",
    "    sql = f\"\"\"\n",
    "    WITH RECURSIVE edges_for(pid, s, p, o, n, depth, stype) AS (\n",
    "        SELECT e.pid, e.s, e.p, e.o, e.n, 1 as depth, node.otype as stype FROM node AS e JOIN node ON node.pid = e.s WHERE e.o = ?\n",
    "    UNION ALL\n",
    "        SELECT e.pid, e.s, e.p, e.o, e.n, eg.depth+1 AS depth, node.otype as stype \n",
    "        FROM node AS e, edges_for as eg JOIN node ON node.pid = e.s \n",
    "        WHERE e.o = eg.s\n",
    "    ) SELECT * FROM edges_for;\n",
    "    \"\"\"\n",
    "    with ggraph.getCursor() as csr:\n",
    "        result = csr.execute(sql, [o])\n",
    "        row = result.fetchone()\n",
    "        while row is not None:\n",
    "            yield row\n",
    "            row = result.fetchone()\n",
    "\n",
    "def nodeDict(n):\n",
    "    print(n)\n",
    "    res = {\n",
    "        \"pid\": n.pid,\n",
    "        \"name\": n.name,\n",
    "        \"description\": n.description,\n",
    "    }\n",
    "    p = json.loads(n.properties)\n",
    "    for k, v in p.items():\n",
    "        res[k] = v\n",
    "    return res\n",
    "\n",
    "\n",
    "def getentity(ggraph, s):\n",
    "    \"\"\"Reconstruct a dataclass instance from its components.\n",
    "\n",
    "    1. get the referenced entity\n",
    "    2. Get the entity edges\n",
    "    3. get the edge referenced entities\n",
    "    4. for each of entities in 3, go to 1\n",
    "    \"\"\"\n",
    "    _nodes = {\n",
    "        s: nodeDict(ggraph.getNode(s)),\n",
    "    }\n",
    "    _edges = []\n",
    "    for edge in getEntityEdges(ggraph, s):\n",
    "        o = edge[3]\n",
    "        _edges.append((edge[1], edge[2], edge[3]))\n",
    "        if not o in _nodes.keys():\n",
    "            _nodes[o] = nodeDict(ggraph.getNode(o))\n",
    "    for edge in _edges:\n",
    "        _nodes[edge[0]][edge[1]] = _nodes[edge[2]]\n",
    "    return _nodes\n",
    "\n",
    "\n",
    "\n",
    "for row in getEntityFor(graph, \"geo_02\"):\n",
    "    print(row)\n",
    "\n",
    "#print(json.dumps(getentity(graph, \"ms01\"), indent=2))\n"
   ],
   "outputs": [
    {
     "name": "stdout",
     "output_type": "stream",
     "text": [
      "('anon_f20367981c86ace60e59c63c832ea548c03279cfac993a6f902c6e3e5a0eea42', 'site_02', 'location', 'geo_02', None, 1, 'SamplingSite')\n",
      "('anon_d1c63415bbdb9362f3d5ba11558fc3775ef5e582db37988364a88bba7082ac74', 'event_02', 'sampling_site', 'site_02', None, 2, 'SamplingEvent')\n",
      "('anon_0d719e17aa3b83b9308c756e882335bc6cb119a2664c056a014380bdf6c4a894', 'ms02', 'produced_by', 'event_02', None, 3, 'MaterialSample')\n"
     ]
    }
   ],
   "execution_count": 7
  },
  {
   "cell_type": "code",
   "id": "fae06857e08f72a5",
   "metadata": {
    "ExecuteTime": {
     "end_time": "2025-02-18T04:28:41.844195Z",
     "start_time": "2025-02-18T04:28:41.835516Z"
    }
   },
   "source": [
    "for row in graph.getRootsForPid([\"geo_02\",],):\n",
    "    print(row)"
   ],
   "outputs": [
    {
     "name": "stdout",
     "output_type": "stream",
     "text": [
      "('anon_f20367981c86ace60e59c63c832ea548c03279cfac993a6f902c6e3e5a0eea42', 'site_02', 'location', 'geo_02', None, 1, 'SamplingSite')\n",
      "('anon_d1c63415bbdb9362f3d5ba11558fc3775ef5e582db37988364a88bba7082ac74', 'event_02', 'sampling_site', 'site_02', None, 2, 'SamplingEvent')\n",
      "('anon_0d719e17aa3b83b9308c756e882335bc6cb119a2664c056a014380bdf6c4a894', 'ms02', 'produced_by', 'event_02', None, 3, 'MaterialSample')\n"
     ]
    }
   ],
   "execution_count": 8
  },
  {
   "cell_type": "code",
   "id": "76b351a1c633275",
   "metadata": {
    "ExecuteTime": {
     "end_time": "2025-02-18T04:28:41.868916Z",
     "start_time": "2025-02-18T04:28:41.859912Z"
    }
   },
   "source": [
    "for row in graph.getRootsForPid([\"geo_02\",], predicates=['location', 'sampling_site']):\n",
    "    print(row)"
   ],
   "outputs": [
    {
     "name": "stdout",
     "output_type": "stream",
     "text": [
      "('anon_f20367981c86ace60e59c63c832ea548c03279cfac993a6f902c6e3e5a0eea42', 'site_02', 'location', 'geo_02', None, 1, 'SamplingSite')\n",
      "('anon_d1c63415bbdb9362f3d5ba11558fc3775ef5e582db37988364a88bba7082ac74', 'event_02', 'sampling_site', 'site_02', None, 2, 'SamplingEvent')\n"
     ]
    }
   ],
   "execution_count": 9
  },
  {
   "cell_type": "code",
   "id": "ed8376597d3a117",
   "metadata": {
    "ExecuteTime": {
     "end_time": "2025-02-18T04:28:41.892887Z",
     "start_time": "2025-02-18T04:28:41.883958Z"
    }
   },
   "source": [
    "for row in graph.getRootsForPid([\"geo_02\",\"geo_01\"], target_type='MaterialSample'):\n",
    "    print(row)"
   ],
   "outputs": [
    {
     "name": "stdout",
     "output_type": "stream",
     "text": [
      "('anon_8edc0383b4c4de9e559b2ce8609ceb081aba4e689974493a07068c8321aeeed6', 'ms01', 'produced_by', 'event_01', None, 3, 'MaterialSample')\n",
      "('anon_0d719e17aa3b83b9308c756e882335bc6cb119a2664c056a014380bdf6c4a894', 'ms02', 'produced_by', 'event_02', None, 3, 'MaterialSample')\n"
     ]
    }
   ],
   "execution_count": 10
  },
  {
   "cell_type": "code",
   "id": "b82517e6037f589b",
   "metadata": {
    "ExecuteTime": {
     "end_time": "2025-02-18T04:29:33.666161Z",
     "start_time": "2025-02-18T04:29:33.661190Z"
    }
   },
   "source": [
    "import pathlib\n",
    "\n",
    "base_name = pathlib.Path(\"./dataclass_\")\n",
    "graph.asParquet(base_name)\n"
   ],
   "outputs": [],
   "execution_count": 12
  }
 ],
 "metadata": {
  "kernelspec": {
   "display_name": "Python 3 (ipykernel)",
   "language": "python",
   "name": "python3"
  },
  "language_info": {
   "codemirror_mode": {
    "name": "ipython",
    "version": 3
   },
   "file_extension": ".py",
   "mimetype": "text/x-python",
   "name": "python",
   "nbconvert_exporter": "python",
   "pygments_lexer": "ipython3",
   "version": "3.11.10"
  }
 },
 "nbformat": 4,
 "nbformat_minor": 5
}
